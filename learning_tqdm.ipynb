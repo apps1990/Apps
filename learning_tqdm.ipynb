{
  "nbformat": 4,
  "nbformat_minor": 0,
  "metadata": {
    "colab": {
      "provenance": [],
      "collapsed_sections": [
        "TYmE6FfjJCjF",
        "U4NRmjmrJEP_",
        "dAHkujB6JGNX",
        "8Kg8meSALlnL",
        "_lfb3pOmSvgZ",
        "_hczhXDXTm7P",
        "LChBGhjbJegD",
        "xMjy7PbTKHTs",
        "IIvJtT7aLIdZ",
        "XQbvckYmLxbm",
        "UiXfVubiMxPa",
        "HfWL3CogOOM-",
        "lcPuVWpzO6ZI",
        "6zxQJXKXQfd4",
        "qNFbma7VRY5t",
        "M5l4JIYCRqAk"
      ],
      "authorship_tag": "ABX9TyPS4cOHuEIYjuEOvOTk3WSK",
      "include_colab_link": true
    },
    "kernelspec": {
      "name": "python3",
      "display_name": "Python 3"
    },
    "language_info": {
      "name": "python"
    },
    "widgets": {
      "application/vnd.jupyter.widget-state+json": {
        "d8ff4222644846f6a47412287902466b": {
          "model_module": "@jupyter-widgets/controls",
          "model_name": "HBoxModel",
          "model_module_version": "1.5.0",
          "state": {
            "_dom_classes": [],
            "_model_module": "@jupyter-widgets/controls",
            "_model_module_version": "1.5.0",
            "_model_name": "HBoxModel",
            "_view_count": null,
            "_view_module": "@jupyter-widgets/controls",
            "_view_module_version": "1.5.0",
            "_view_name": "HBoxView",
            "box_style": "",
            "children": [
              "IPY_MODEL_16b49b85cca849b7b4982f2ce595104b",
              "IPY_MODEL_0a12f7bd61fd404ea6304a2dcbab90f6",
              "IPY_MODEL_c747d3d711e4434cba971d9b349a091f"
            ],
            "layout": "IPY_MODEL_44138787d3834b6cb9ad678004c9f0d0"
          }
        },
        "16b49b85cca849b7b4982f2ce595104b": {
          "model_module": "@jupyter-widgets/controls",
          "model_name": "HTMLModel",
          "model_module_version": "1.5.0",
          "state": {
            "_dom_classes": [],
            "_model_module": "@jupyter-widgets/controls",
            "_model_module_version": "1.5.0",
            "_model_name": "HTMLModel",
            "_view_count": null,
            "_view_module": "@jupyter-widgets/controls",
            "_view_module_version": "1.5.0",
            "_view_name": "HTMLView",
            "description": "",
            "description_tooltip": null,
            "layout": "IPY_MODEL_82d53d33141346c39587f8104192ea02",
            "placeholder": "​",
            "style": "IPY_MODEL_4d66243212c14a768411e8b18ebca4ca",
            "value": "loop 1: 100%"
          }
        },
        "0a12f7bd61fd404ea6304a2dcbab90f6": {
          "model_module": "@jupyter-widgets/controls",
          "model_name": "FloatProgressModel",
          "model_module_version": "1.5.0",
          "state": {
            "_dom_classes": [],
            "_model_module": "@jupyter-widgets/controls",
            "_model_module_version": "1.5.0",
            "_model_name": "FloatProgressModel",
            "_view_count": null,
            "_view_module": "@jupyter-widgets/controls",
            "_view_module_version": "1.5.0",
            "_view_name": "ProgressView",
            "bar_style": "success",
            "description": "",
            "description_tooltip": null,
            "layout": "IPY_MODEL_4b4ae62cd8d843369700a6429733add7",
            "max": 2,
            "min": 0,
            "orientation": "horizontal",
            "style": "IPY_MODEL_e5dcda0d42f2426088d0e3e4d9c07292",
            "value": 2
          }
        },
        "c747d3d711e4434cba971d9b349a091f": {
          "model_module": "@jupyter-widgets/controls",
          "model_name": "HTMLModel",
          "model_module_version": "1.5.0",
          "state": {
            "_dom_classes": [],
            "_model_module": "@jupyter-widgets/controls",
            "_model_module_version": "1.5.0",
            "_model_name": "HTMLModel",
            "_view_count": null,
            "_view_module": "@jupyter-widgets/controls",
            "_view_module_version": "1.5.0",
            "_view_name": "HTMLView",
            "description": "",
            "description_tooltip": null,
            "layout": "IPY_MODEL_fa9c2cd3ac9c4bd79b20aca9be813d57",
            "placeholder": "​",
            "style": "IPY_MODEL_4cf0375aec3942c982dc2584a63fed80",
            "value": " 2/2 [00:10&lt;00:00,  5.04s/it]"
          }
        },
        "44138787d3834b6cb9ad678004c9f0d0": {
          "model_module": "@jupyter-widgets/base",
          "model_name": "LayoutModel",
          "model_module_version": "1.2.0",
          "state": {
            "_model_module": "@jupyter-widgets/base",
            "_model_module_version": "1.2.0",
            "_model_name": "LayoutModel",
            "_view_count": null,
            "_view_module": "@jupyter-widgets/base",
            "_view_module_version": "1.2.0",
            "_view_name": "LayoutView",
            "align_content": null,
            "align_items": null,
            "align_self": null,
            "border": null,
            "bottom": null,
            "display": null,
            "flex": null,
            "flex_flow": null,
            "grid_area": null,
            "grid_auto_columns": null,
            "grid_auto_flow": null,
            "grid_auto_rows": null,
            "grid_column": null,
            "grid_gap": null,
            "grid_row": null,
            "grid_template_areas": null,
            "grid_template_columns": null,
            "grid_template_rows": null,
            "height": null,
            "justify_content": null,
            "justify_items": null,
            "left": null,
            "margin": null,
            "max_height": null,
            "max_width": null,
            "min_height": null,
            "min_width": null,
            "object_fit": null,
            "object_position": null,
            "order": null,
            "overflow": null,
            "overflow_x": null,
            "overflow_y": null,
            "padding": null,
            "right": null,
            "top": null,
            "visibility": null,
            "width": null
          }
        },
        "82d53d33141346c39587f8104192ea02": {
          "model_module": "@jupyter-widgets/base",
          "model_name": "LayoutModel",
          "model_module_version": "1.2.0",
          "state": {
            "_model_module": "@jupyter-widgets/base",
            "_model_module_version": "1.2.0",
            "_model_name": "LayoutModel",
            "_view_count": null,
            "_view_module": "@jupyter-widgets/base",
            "_view_module_version": "1.2.0",
            "_view_name": "LayoutView",
            "align_content": null,
            "align_items": null,
            "align_self": null,
            "border": null,
            "bottom": null,
            "display": null,
            "flex": null,
            "flex_flow": null,
            "grid_area": null,
            "grid_auto_columns": null,
            "grid_auto_flow": null,
            "grid_auto_rows": null,
            "grid_column": null,
            "grid_gap": null,
            "grid_row": null,
            "grid_template_areas": null,
            "grid_template_columns": null,
            "grid_template_rows": null,
            "height": null,
            "justify_content": null,
            "justify_items": null,
            "left": null,
            "margin": null,
            "max_height": null,
            "max_width": null,
            "min_height": null,
            "min_width": null,
            "object_fit": null,
            "object_position": null,
            "order": null,
            "overflow": null,
            "overflow_x": null,
            "overflow_y": null,
            "padding": null,
            "right": null,
            "top": null,
            "visibility": null,
            "width": null
          }
        },
        "4d66243212c14a768411e8b18ebca4ca": {
          "model_module": "@jupyter-widgets/controls",
          "model_name": "DescriptionStyleModel",
          "model_module_version": "1.5.0",
          "state": {
            "_model_module": "@jupyter-widgets/controls",
            "_model_module_version": "1.5.0",
            "_model_name": "DescriptionStyleModel",
            "_view_count": null,
            "_view_module": "@jupyter-widgets/base",
            "_view_module_version": "1.2.0",
            "_view_name": "StyleView",
            "description_width": ""
          }
        },
        "4b4ae62cd8d843369700a6429733add7": {
          "model_module": "@jupyter-widgets/base",
          "model_name": "LayoutModel",
          "model_module_version": "1.2.0",
          "state": {
            "_model_module": "@jupyter-widgets/base",
            "_model_module_version": "1.2.0",
            "_model_name": "LayoutModel",
            "_view_count": null,
            "_view_module": "@jupyter-widgets/base",
            "_view_module_version": "1.2.0",
            "_view_name": "LayoutView",
            "align_content": null,
            "align_items": null,
            "align_self": null,
            "border": null,
            "bottom": null,
            "display": null,
            "flex": null,
            "flex_flow": null,
            "grid_area": null,
            "grid_auto_columns": null,
            "grid_auto_flow": null,
            "grid_auto_rows": null,
            "grid_column": null,
            "grid_gap": null,
            "grid_row": null,
            "grid_template_areas": null,
            "grid_template_columns": null,
            "grid_template_rows": null,
            "height": null,
            "justify_content": null,
            "justify_items": null,
            "left": null,
            "margin": null,
            "max_height": null,
            "max_width": null,
            "min_height": null,
            "min_width": null,
            "object_fit": null,
            "object_position": null,
            "order": null,
            "overflow": null,
            "overflow_x": null,
            "overflow_y": null,
            "padding": null,
            "right": null,
            "top": null,
            "visibility": null,
            "width": null
          }
        },
        "e5dcda0d42f2426088d0e3e4d9c07292": {
          "model_module": "@jupyter-widgets/controls",
          "model_name": "ProgressStyleModel",
          "model_module_version": "1.5.0",
          "state": {
            "_model_module": "@jupyter-widgets/controls",
            "_model_module_version": "1.5.0",
            "_model_name": "ProgressStyleModel",
            "_view_count": null,
            "_view_module": "@jupyter-widgets/base",
            "_view_module_version": "1.2.0",
            "_view_name": "StyleView",
            "bar_color": null,
            "description_width": ""
          }
        },
        "fa9c2cd3ac9c4bd79b20aca9be813d57": {
          "model_module": "@jupyter-widgets/base",
          "model_name": "LayoutModel",
          "model_module_version": "1.2.0",
          "state": {
            "_model_module": "@jupyter-widgets/base",
            "_model_module_version": "1.2.0",
            "_model_name": "LayoutModel",
            "_view_count": null,
            "_view_module": "@jupyter-widgets/base",
            "_view_module_version": "1.2.0",
            "_view_name": "LayoutView",
            "align_content": null,
            "align_items": null,
            "align_self": null,
            "border": null,
            "bottom": null,
            "display": null,
            "flex": null,
            "flex_flow": null,
            "grid_area": null,
            "grid_auto_columns": null,
            "grid_auto_flow": null,
            "grid_auto_rows": null,
            "grid_column": null,
            "grid_gap": null,
            "grid_row": null,
            "grid_template_areas": null,
            "grid_template_columns": null,
            "grid_template_rows": null,
            "height": null,
            "justify_content": null,
            "justify_items": null,
            "left": null,
            "margin": null,
            "max_height": null,
            "max_width": null,
            "min_height": null,
            "min_width": null,
            "object_fit": null,
            "object_position": null,
            "order": null,
            "overflow": null,
            "overflow_x": null,
            "overflow_y": null,
            "padding": null,
            "right": null,
            "top": null,
            "visibility": null,
            "width": null
          }
        },
        "4cf0375aec3942c982dc2584a63fed80": {
          "model_module": "@jupyter-widgets/controls",
          "model_name": "DescriptionStyleModel",
          "model_module_version": "1.5.0",
          "state": {
            "_model_module": "@jupyter-widgets/controls",
            "_model_module_version": "1.5.0",
            "_model_name": "DescriptionStyleModel",
            "_view_count": null,
            "_view_module": "@jupyter-widgets/base",
            "_view_module_version": "1.2.0",
            "_view_name": "StyleView",
            "description_width": ""
          }
        },
        "19fb64ac9210497bb11fccdc0a01088e": {
          "model_module": "@jupyter-widgets/controls",
          "model_name": "HBoxModel",
          "model_module_version": "1.5.0",
          "state": {
            "_dom_classes": [],
            "_model_module": "@jupyter-widgets/controls",
            "_model_module_version": "1.5.0",
            "_model_name": "HBoxModel",
            "_view_count": null,
            "_view_module": "@jupyter-widgets/controls",
            "_view_module_version": "1.5.0",
            "_view_name": "HBoxView",
            "box_style": "",
            "children": [
              "IPY_MODEL_d07f966ee7dc478c92ba80a117a8827b",
              "IPY_MODEL_578359303dec40349d6092b7f9c769fb",
              "IPY_MODEL_910b8febdbd948bfb508c1e740dbe46d"
            ],
            "layout": "IPY_MODEL_c5b97fda100a43cba939fb3c2e47b803"
          }
        },
        "d07f966ee7dc478c92ba80a117a8827b": {
          "model_module": "@jupyter-widgets/controls",
          "model_name": "HTMLModel",
          "model_module_version": "1.5.0",
          "state": {
            "_dom_classes": [],
            "_model_module": "@jupyter-widgets/controls",
            "_model_module_version": "1.5.0",
            "_model_name": "HTMLModel",
            "_view_count": null,
            "_view_module": "@jupyter-widgets/controls",
            "_view_module_version": "1.5.0",
            "_view_name": "HTMLView",
            "description": "",
            "description_tooltip": null,
            "layout": "IPY_MODEL_5e7f07de89334545bf99bcdd67a28482",
            "placeholder": "​",
            "style": "IPY_MODEL_2b499e7471504b76b8a911ae9f2a23fc",
            "value": "loop 2: 100%"
          }
        },
        "578359303dec40349d6092b7f9c769fb": {
          "model_module": "@jupyter-widgets/controls",
          "model_name": "FloatProgressModel",
          "model_module_version": "1.5.0",
          "state": {
            "_dom_classes": [],
            "_model_module": "@jupyter-widgets/controls",
            "_model_module_version": "1.5.0",
            "_model_name": "FloatProgressModel",
            "_view_count": null,
            "_view_module": "@jupyter-widgets/controls",
            "_view_module_version": "1.5.0",
            "_view_name": "ProgressView",
            "bar_style": "success",
            "description": "",
            "description_tooltip": null,
            "layout": "IPY_MODEL_876ec929ec9f4e0c9004574c4daee16e",
            "max": 5,
            "min": 0,
            "orientation": "horizontal",
            "style": "IPY_MODEL_f26f763c02fe404bae74bc625aa18bea",
            "value": 5
          }
        },
        "910b8febdbd948bfb508c1e740dbe46d": {
          "model_module": "@jupyter-widgets/controls",
          "model_name": "HTMLModel",
          "model_module_version": "1.5.0",
          "state": {
            "_dom_classes": [],
            "_model_module": "@jupyter-widgets/controls",
            "_model_module_version": "1.5.0",
            "_model_name": "HTMLModel",
            "_view_count": null,
            "_view_module": "@jupyter-widgets/controls",
            "_view_module_version": "1.5.0",
            "_view_name": "HTMLView",
            "description": "",
            "description_tooltip": null,
            "layout": "IPY_MODEL_d8015e6b0b2c438cb9fbf0ad94aba3e7",
            "placeholder": "​",
            "style": "IPY_MODEL_6866c3d099f546849908b44d6f1ac7e4",
            "value": " 5/5 [00:05&lt;00:00,  1.00s/it]"
          }
        },
        "c5b97fda100a43cba939fb3c2e47b803": {
          "model_module": "@jupyter-widgets/base",
          "model_name": "LayoutModel",
          "model_module_version": "1.2.0",
          "state": {
            "_model_module": "@jupyter-widgets/base",
            "_model_module_version": "1.2.0",
            "_model_name": "LayoutModel",
            "_view_count": null,
            "_view_module": "@jupyter-widgets/base",
            "_view_module_version": "1.2.0",
            "_view_name": "LayoutView",
            "align_content": null,
            "align_items": null,
            "align_self": null,
            "border": null,
            "bottom": null,
            "display": null,
            "flex": null,
            "flex_flow": null,
            "grid_area": null,
            "grid_auto_columns": null,
            "grid_auto_flow": null,
            "grid_auto_rows": null,
            "grid_column": null,
            "grid_gap": null,
            "grid_row": null,
            "grid_template_areas": null,
            "grid_template_columns": null,
            "grid_template_rows": null,
            "height": null,
            "justify_content": null,
            "justify_items": null,
            "left": null,
            "margin": null,
            "max_height": null,
            "max_width": null,
            "min_height": null,
            "min_width": null,
            "object_fit": null,
            "object_position": null,
            "order": null,
            "overflow": null,
            "overflow_x": null,
            "overflow_y": null,
            "padding": null,
            "right": null,
            "top": null,
            "visibility": null,
            "width": null
          }
        },
        "5e7f07de89334545bf99bcdd67a28482": {
          "model_module": "@jupyter-widgets/base",
          "model_name": "LayoutModel",
          "model_module_version": "1.2.0",
          "state": {
            "_model_module": "@jupyter-widgets/base",
            "_model_module_version": "1.2.0",
            "_model_name": "LayoutModel",
            "_view_count": null,
            "_view_module": "@jupyter-widgets/base",
            "_view_module_version": "1.2.0",
            "_view_name": "LayoutView",
            "align_content": null,
            "align_items": null,
            "align_self": null,
            "border": null,
            "bottom": null,
            "display": null,
            "flex": null,
            "flex_flow": null,
            "grid_area": null,
            "grid_auto_columns": null,
            "grid_auto_flow": null,
            "grid_auto_rows": null,
            "grid_column": null,
            "grid_gap": null,
            "grid_row": null,
            "grid_template_areas": null,
            "grid_template_columns": null,
            "grid_template_rows": null,
            "height": null,
            "justify_content": null,
            "justify_items": null,
            "left": null,
            "margin": null,
            "max_height": null,
            "max_width": null,
            "min_height": null,
            "min_width": null,
            "object_fit": null,
            "object_position": null,
            "order": null,
            "overflow": null,
            "overflow_x": null,
            "overflow_y": null,
            "padding": null,
            "right": null,
            "top": null,
            "visibility": null,
            "width": null
          }
        },
        "2b499e7471504b76b8a911ae9f2a23fc": {
          "model_module": "@jupyter-widgets/controls",
          "model_name": "DescriptionStyleModel",
          "model_module_version": "1.5.0",
          "state": {
            "_model_module": "@jupyter-widgets/controls",
            "_model_module_version": "1.5.0",
            "_model_name": "DescriptionStyleModel",
            "_view_count": null,
            "_view_module": "@jupyter-widgets/base",
            "_view_module_version": "1.2.0",
            "_view_name": "StyleView",
            "description_width": ""
          }
        },
        "876ec929ec9f4e0c9004574c4daee16e": {
          "model_module": "@jupyter-widgets/base",
          "model_name": "LayoutModel",
          "model_module_version": "1.2.0",
          "state": {
            "_model_module": "@jupyter-widgets/base",
            "_model_module_version": "1.2.0",
            "_model_name": "LayoutModel",
            "_view_count": null,
            "_view_module": "@jupyter-widgets/base",
            "_view_module_version": "1.2.0",
            "_view_name": "LayoutView",
            "align_content": null,
            "align_items": null,
            "align_self": null,
            "border": null,
            "bottom": null,
            "display": null,
            "flex": null,
            "flex_flow": null,
            "grid_area": null,
            "grid_auto_columns": null,
            "grid_auto_flow": null,
            "grid_auto_rows": null,
            "grid_column": null,
            "grid_gap": null,
            "grid_row": null,
            "grid_template_areas": null,
            "grid_template_columns": null,
            "grid_template_rows": null,
            "height": null,
            "justify_content": null,
            "justify_items": null,
            "left": null,
            "margin": null,
            "max_height": null,
            "max_width": null,
            "min_height": null,
            "min_width": null,
            "object_fit": null,
            "object_position": null,
            "order": null,
            "overflow": null,
            "overflow_x": null,
            "overflow_y": null,
            "padding": null,
            "right": null,
            "top": null,
            "visibility": null,
            "width": null
          }
        },
        "f26f763c02fe404bae74bc625aa18bea": {
          "model_module": "@jupyter-widgets/controls",
          "model_name": "ProgressStyleModel",
          "model_module_version": "1.5.0",
          "state": {
            "_model_module": "@jupyter-widgets/controls",
            "_model_module_version": "1.5.0",
            "_model_name": "ProgressStyleModel",
            "_view_count": null,
            "_view_module": "@jupyter-widgets/base",
            "_view_module_version": "1.2.0",
            "_view_name": "StyleView",
            "bar_color": null,
            "description_width": ""
          }
        },
        "d8015e6b0b2c438cb9fbf0ad94aba3e7": {
          "model_module": "@jupyter-widgets/base",
          "model_name": "LayoutModel",
          "model_module_version": "1.2.0",
          "state": {
            "_model_module": "@jupyter-widgets/base",
            "_model_module_version": "1.2.0",
            "_model_name": "LayoutModel",
            "_view_count": null,
            "_view_module": "@jupyter-widgets/base",
            "_view_module_version": "1.2.0",
            "_view_name": "LayoutView",
            "align_content": null,
            "align_items": null,
            "align_self": null,
            "border": null,
            "bottom": null,
            "display": null,
            "flex": null,
            "flex_flow": null,
            "grid_area": null,
            "grid_auto_columns": null,
            "grid_auto_flow": null,
            "grid_auto_rows": null,
            "grid_column": null,
            "grid_gap": null,
            "grid_row": null,
            "grid_template_areas": null,
            "grid_template_columns": null,
            "grid_template_rows": null,
            "height": null,
            "justify_content": null,
            "justify_items": null,
            "left": null,
            "margin": null,
            "max_height": null,
            "max_width": null,
            "min_height": null,
            "min_width": null,
            "object_fit": null,
            "object_position": null,
            "order": null,
            "overflow": null,
            "overflow_x": null,
            "overflow_y": null,
            "padding": null,
            "right": null,
            "top": null,
            "visibility": null,
            "width": null
          }
        },
        "6866c3d099f546849908b44d6f1ac7e4": {
          "model_module": "@jupyter-widgets/controls",
          "model_name": "DescriptionStyleModel",
          "model_module_version": "1.5.0",
          "state": {
            "_model_module": "@jupyter-widgets/controls",
            "_model_module_version": "1.5.0",
            "_model_name": "DescriptionStyleModel",
            "_view_count": null,
            "_view_module": "@jupyter-widgets/base",
            "_view_module_version": "1.2.0",
            "_view_name": "StyleView",
            "description_width": ""
          }
        },
        "b223cde37d404e64802255f82750da28": {
          "model_module": "@jupyter-widgets/controls",
          "model_name": "HBoxModel",
          "model_module_version": "1.5.0",
          "state": {
            "_dom_classes": [],
            "_model_module": "@jupyter-widgets/controls",
            "_model_module_version": "1.5.0",
            "_model_name": "HBoxModel",
            "_view_count": null,
            "_view_module": "@jupyter-widgets/controls",
            "_view_module_version": "1.5.0",
            "_view_name": "HBoxView",
            "box_style": "",
            "children": [
              "IPY_MODEL_9db1416d40bd42029608ab7cdf2339e7",
              "IPY_MODEL_7f9787be5bcb433cb22053a29a5e51fd",
              "IPY_MODEL_d4ae106ebe8c439090f1a8bcd772b878"
            ],
            "layout": "IPY_MODEL_66a50f5a9ae441659c8e52339ed85191"
          }
        },
        "9db1416d40bd42029608ab7cdf2339e7": {
          "model_module": "@jupyter-widgets/controls",
          "model_name": "HTMLModel",
          "model_module_version": "1.5.0",
          "state": {
            "_dom_classes": [],
            "_model_module": "@jupyter-widgets/controls",
            "_model_module_version": "1.5.0",
            "_model_name": "HTMLModel",
            "_view_count": null,
            "_view_module": "@jupyter-widgets/controls",
            "_view_module_version": "1.5.0",
            "_view_name": "HTMLView",
            "description": "",
            "description_tooltip": null,
            "layout": "IPY_MODEL_a45388c945464de885e0d03fd066cb9f",
            "placeholder": "​",
            "style": "IPY_MODEL_6f2f5f4db567459b96536e0743381270",
            "value": "loop 2: 100%"
          }
        },
        "7f9787be5bcb433cb22053a29a5e51fd": {
          "model_module": "@jupyter-widgets/controls",
          "model_name": "FloatProgressModel",
          "model_module_version": "1.5.0",
          "state": {
            "_dom_classes": [],
            "_model_module": "@jupyter-widgets/controls",
            "_model_module_version": "1.5.0",
            "_model_name": "FloatProgressModel",
            "_view_count": null,
            "_view_module": "@jupyter-widgets/controls",
            "_view_module_version": "1.5.0",
            "_view_name": "ProgressView",
            "bar_style": "success",
            "description": "",
            "description_tooltip": null,
            "layout": "IPY_MODEL_bb63ff92257d43308530b86a1d0029af",
            "max": 5,
            "min": 0,
            "orientation": "horizontal",
            "style": "IPY_MODEL_695a01bc1a134c0f89ba1544413361c8",
            "value": 5
          }
        },
        "d4ae106ebe8c439090f1a8bcd772b878": {
          "model_module": "@jupyter-widgets/controls",
          "model_name": "HTMLModel",
          "model_module_version": "1.5.0",
          "state": {
            "_dom_classes": [],
            "_model_module": "@jupyter-widgets/controls",
            "_model_module_version": "1.5.0",
            "_model_name": "HTMLModel",
            "_view_count": null,
            "_view_module": "@jupyter-widgets/controls",
            "_view_module_version": "1.5.0",
            "_view_name": "HTMLView",
            "description": "",
            "description_tooltip": null,
            "layout": "IPY_MODEL_d191c56c00ec485c9fba169d07d7310c",
            "placeholder": "​",
            "style": "IPY_MODEL_448ae99e64bf49ba8276f1b4ca061e73",
            "value": " 5/5 [00:05&lt;00:00,  1.00s/it]"
          }
        },
        "66a50f5a9ae441659c8e52339ed85191": {
          "model_module": "@jupyter-widgets/base",
          "model_name": "LayoutModel",
          "model_module_version": "1.2.0",
          "state": {
            "_model_module": "@jupyter-widgets/base",
            "_model_module_version": "1.2.0",
            "_model_name": "LayoutModel",
            "_view_count": null,
            "_view_module": "@jupyter-widgets/base",
            "_view_module_version": "1.2.0",
            "_view_name": "LayoutView",
            "align_content": null,
            "align_items": null,
            "align_self": null,
            "border": null,
            "bottom": null,
            "display": null,
            "flex": null,
            "flex_flow": null,
            "grid_area": null,
            "grid_auto_columns": null,
            "grid_auto_flow": null,
            "grid_auto_rows": null,
            "grid_column": null,
            "grid_gap": null,
            "grid_row": null,
            "grid_template_areas": null,
            "grid_template_columns": null,
            "grid_template_rows": null,
            "height": null,
            "justify_content": null,
            "justify_items": null,
            "left": null,
            "margin": null,
            "max_height": null,
            "max_width": null,
            "min_height": null,
            "min_width": null,
            "object_fit": null,
            "object_position": null,
            "order": null,
            "overflow": null,
            "overflow_x": null,
            "overflow_y": null,
            "padding": null,
            "right": null,
            "top": null,
            "visibility": null,
            "width": null
          }
        },
        "a45388c945464de885e0d03fd066cb9f": {
          "model_module": "@jupyter-widgets/base",
          "model_name": "LayoutModel",
          "model_module_version": "1.2.0",
          "state": {
            "_model_module": "@jupyter-widgets/base",
            "_model_module_version": "1.2.0",
            "_model_name": "LayoutModel",
            "_view_count": null,
            "_view_module": "@jupyter-widgets/base",
            "_view_module_version": "1.2.0",
            "_view_name": "LayoutView",
            "align_content": null,
            "align_items": null,
            "align_self": null,
            "border": null,
            "bottom": null,
            "display": null,
            "flex": null,
            "flex_flow": null,
            "grid_area": null,
            "grid_auto_columns": null,
            "grid_auto_flow": null,
            "grid_auto_rows": null,
            "grid_column": null,
            "grid_gap": null,
            "grid_row": null,
            "grid_template_areas": null,
            "grid_template_columns": null,
            "grid_template_rows": null,
            "height": null,
            "justify_content": null,
            "justify_items": null,
            "left": null,
            "margin": null,
            "max_height": null,
            "max_width": null,
            "min_height": null,
            "min_width": null,
            "object_fit": null,
            "object_position": null,
            "order": null,
            "overflow": null,
            "overflow_x": null,
            "overflow_y": null,
            "padding": null,
            "right": null,
            "top": null,
            "visibility": null,
            "width": null
          }
        },
        "6f2f5f4db567459b96536e0743381270": {
          "model_module": "@jupyter-widgets/controls",
          "model_name": "DescriptionStyleModel",
          "model_module_version": "1.5.0",
          "state": {
            "_model_module": "@jupyter-widgets/controls",
            "_model_module_version": "1.5.0",
            "_model_name": "DescriptionStyleModel",
            "_view_count": null,
            "_view_module": "@jupyter-widgets/base",
            "_view_module_version": "1.2.0",
            "_view_name": "StyleView",
            "description_width": ""
          }
        },
        "bb63ff92257d43308530b86a1d0029af": {
          "model_module": "@jupyter-widgets/base",
          "model_name": "LayoutModel",
          "model_module_version": "1.2.0",
          "state": {
            "_model_module": "@jupyter-widgets/base",
            "_model_module_version": "1.2.0",
            "_model_name": "LayoutModel",
            "_view_count": null,
            "_view_module": "@jupyter-widgets/base",
            "_view_module_version": "1.2.0",
            "_view_name": "LayoutView",
            "align_content": null,
            "align_items": null,
            "align_self": null,
            "border": null,
            "bottom": null,
            "display": null,
            "flex": null,
            "flex_flow": null,
            "grid_area": null,
            "grid_auto_columns": null,
            "grid_auto_flow": null,
            "grid_auto_rows": null,
            "grid_column": null,
            "grid_gap": null,
            "grid_row": null,
            "grid_template_areas": null,
            "grid_template_columns": null,
            "grid_template_rows": null,
            "height": null,
            "justify_content": null,
            "justify_items": null,
            "left": null,
            "margin": null,
            "max_height": null,
            "max_width": null,
            "min_height": null,
            "min_width": null,
            "object_fit": null,
            "object_position": null,
            "order": null,
            "overflow": null,
            "overflow_x": null,
            "overflow_y": null,
            "padding": null,
            "right": null,
            "top": null,
            "visibility": null,
            "width": null
          }
        },
        "695a01bc1a134c0f89ba1544413361c8": {
          "model_module": "@jupyter-widgets/controls",
          "model_name": "ProgressStyleModel",
          "model_module_version": "1.5.0",
          "state": {
            "_model_module": "@jupyter-widgets/controls",
            "_model_module_version": "1.5.0",
            "_model_name": "ProgressStyleModel",
            "_view_count": null,
            "_view_module": "@jupyter-widgets/base",
            "_view_module_version": "1.2.0",
            "_view_name": "StyleView",
            "bar_color": null,
            "description_width": ""
          }
        },
        "d191c56c00ec485c9fba169d07d7310c": {
          "model_module": "@jupyter-widgets/base",
          "model_name": "LayoutModel",
          "model_module_version": "1.2.0",
          "state": {
            "_model_module": "@jupyter-widgets/base",
            "_model_module_version": "1.2.0",
            "_model_name": "LayoutModel",
            "_view_count": null,
            "_view_module": "@jupyter-widgets/base",
            "_view_module_version": "1.2.0",
            "_view_name": "LayoutView",
            "align_content": null,
            "align_items": null,
            "align_self": null,
            "border": null,
            "bottom": null,
            "display": null,
            "flex": null,
            "flex_flow": null,
            "grid_area": null,
            "grid_auto_columns": null,
            "grid_auto_flow": null,
            "grid_auto_rows": null,
            "grid_column": null,
            "grid_gap": null,
            "grid_row": null,
            "grid_template_areas": null,
            "grid_template_columns": null,
            "grid_template_rows": null,
            "height": null,
            "justify_content": null,
            "justify_items": null,
            "left": null,
            "margin": null,
            "max_height": null,
            "max_width": null,
            "min_height": null,
            "min_width": null,
            "object_fit": null,
            "object_position": null,
            "order": null,
            "overflow": null,
            "overflow_x": null,
            "overflow_y": null,
            "padding": null,
            "right": null,
            "top": null,
            "visibility": null,
            "width": null
          }
        },
        "448ae99e64bf49ba8276f1b4ca061e73": {
          "model_module": "@jupyter-widgets/controls",
          "model_name": "DescriptionStyleModel",
          "model_module_version": "1.5.0",
          "state": {
            "_model_module": "@jupyter-widgets/controls",
            "_model_module_version": "1.5.0",
            "_model_name": "DescriptionStyleModel",
            "_view_count": null,
            "_view_module": "@jupyter-widgets/base",
            "_view_module_version": "1.2.0",
            "_view_name": "StyleView",
            "description_width": ""
          }
        },
        "2abfd8813e1e496cb4131b8d0a95b840": {
          "model_module": "@jupyter-widgets/controls",
          "model_name": "HBoxModel",
          "model_module_version": "1.5.0",
          "state": {
            "_dom_classes": [],
            "_model_module": "@jupyter-widgets/controls",
            "_model_module_version": "1.5.0",
            "_model_name": "HBoxModel",
            "_view_count": null,
            "_view_module": "@jupyter-widgets/controls",
            "_view_module_version": "1.5.0",
            "_view_name": "HBoxView",
            "box_style": "",
            "children": [
              "IPY_MODEL_a69944e99f6c4f0595b51b16b929f14b",
              "IPY_MODEL_e5184c2122b345e1bb2add67fa550ed8",
              "IPY_MODEL_a2207cc10b0e475a803b9011207fb250"
            ],
            "layout": "IPY_MODEL_7c8e7fd0be034ed4bda8176fddde5b7b"
          }
        },
        "a69944e99f6c4f0595b51b16b929f14b": {
          "model_module": "@jupyter-widgets/controls",
          "model_name": "HTMLModel",
          "model_module_version": "1.5.0",
          "state": {
            "_dom_classes": [],
            "_model_module": "@jupyter-widgets/controls",
            "_model_module_version": "1.5.0",
            "_model_name": "HTMLModel",
            "_view_count": null,
            "_view_module": "@jupyter-widgets/controls",
            "_view_module_version": "1.5.0",
            "_view_name": "HTMLView",
            "description": "",
            "description_tooltip": null,
            "layout": "IPY_MODEL_8ffb676adf134efa9a79725f5176e75b",
            "placeholder": "​",
            "style": "IPY_MODEL_46e8dec33cb04d438aa3420edaa62b0b",
            "value": "100%"
          }
        },
        "e5184c2122b345e1bb2add67fa550ed8": {
          "model_module": "@jupyter-widgets/controls",
          "model_name": "FloatProgressModel",
          "model_module_version": "1.5.0",
          "state": {
            "_dom_classes": [],
            "_model_module": "@jupyter-widgets/controls",
            "_model_module_version": "1.5.0",
            "_model_name": "FloatProgressModel",
            "_view_count": null,
            "_view_module": "@jupyter-widgets/controls",
            "_view_module_version": "1.5.0",
            "_view_name": "ProgressView",
            "bar_style": "success",
            "description": "",
            "description_tooltip": null,
            "layout": "IPY_MODEL_0855097979f6432cb21b57a2e006310e",
            "max": 50000,
            "min": 0,
            "orientation": "horizontal",
            "style": "IPY_MODEL_0d004b5ee87c4f769a6bacf03678b43e",
            "value": 50000
          }
        },
        "a2207cc10b0e475a803b9011207fb250": {
          "model_module": "@jupyter-widgets/controls",
          "model_name": "HTMLModel",
          "model_module_version": "1.5.0",
          "state": {
            "_dom_classes": [],
            "_model_module": "@jupyter-widgets/controls",
            "_model_module_version": "1.5.0",
            "_model_name": "HTMLModel",
            "_view_count": null,
            "_view_module": "@jupyter-widgets/controls",
            "_view_module_version": "1.5.0",
            "_view_name": "HTMLView",
            "description": "",
            "description_tooltip": null,
            "layout": "IPY_MODEL_dc47293805a7486381cf32cf99052f53",
            "placeholder": "​",
            "style": "IPY_MODEL_15a52eff58f948a29c3cb842a334d368",
            "value": " 50000/50000 [00:04&lt;00:00, 13277.49it/s]"
          }
        },
        "7c8e7fd0be034ed4bda8176fddde5b7b": {
          "model_module": "@jupyter-widgets/base",
          "model_name": "LayoutModel",
          "model_module_version": "1.2.0",
          "state": {
            "_model_module": "@jupyter-widgets/base",
            "_model_module_version": "1.2.0",
            "_model_name": "LayoutModel",
            "_view_count": null,
            "_view_module": "@jupyter-widgets/base",
            "_view_module_version": "1.2.0",
            "_view_name": "LayoutView",
            "align_content": null,
            "align_items": null,
            "align_self": null,
            "border": null,
            "bottom": null,
            "display": null,
            "flex": null,
            "flex_flow": null,
            "grid_area": null,
            "grid_auto_columns": null,
            "grid_auto_flow": null,
            "grid_auto_rows": null,
            "grid_column": null,
            "grid_gap": null,
            "grid_row": null,
            "grid_template_areas": null,
            "grid_template_columns": null,
            "grid_template_rows": null,
            "height": null,
            "justify_content": null,
            "justify_items": null,
            "left": null,
            "margin": null,
            "max_height": null,
            "max_width": null,
            "min_height": null,
            "min_width": null,
            "object_fit": null,
            "object_position": null,
            "order": null,
            "overflow": null,
            "overflow_x": null,
            "overflow_y": null,
            "padding": null,
            "right": null,
            "top": null,
            "visibility": null,
            "width": null
          }
        },
        "8ffb676adf134efa9a79725f5176e75b": {
          "model_module": "@jupyter-widgets/base",
          "model_name": "LayoutModel",
          "model_module_version": "1.2.0",
          "state": {
            "_model_module": "@jupyter-widgets/base",
            "_model_module_version": "1.2.0",
            "_model_name": "LayoutModel",
            "_view_count": null,
            "_view_module": "@jupyter-widgets/base",
            "_view_module_version": "1.2.0",
            "_view_name": "LayoutView",
            "align_content": null,
            "align_items": null,
            "align_self": null,
            "border": null,
            "bottom": null,
            "display": null,
            "flex": null,
            "flex_flow": null,
            "grid_area": null,
            "grid_auto_columns": null,
            "grid_auto_flow": null,
            "grid_auto_rows": null,
            "grid_column": null,
            "grid_gap": null,
            "grid_row": null,
            "grid_template_areas": null,
            "grid_template_columns": null,
            "grid_template_rows": null,
            "height": null,
            "justify_content": null,
            "justify_items": null,
            "left": null,
            "margin": null,
            "max_height": null,
            "max_width": null,
            "min_height": null,
            "min_width": null,
            "object_fit": null,
            "object_position": null,
            "order": null,
            "overflow": null,
            "overflow_x": null,
            "overflow_y": null,
            "padding": null,
            "right": null,
            "top": null,
            "visibility": null,
            "width": null
          }
        },
        "46e8dec33cb04d438aa3420edaa62b0b": {
          "model_module": "@jupyter-widgets/controls",
          "model_name": "DescriptionStyleModel",
          "model_module_version": "1.5.0",
          "state": {
            "_model_module": "@jupyter-widgets/controls",
            "_model_module_version": "1.5.0",
            "_model_name": "DescriptionStyleModel",
            "_view_count": null,
            "_view_module": "@jupyter-widgets/base",
            "_view_module_version": "1.2.0",
            "_view_name": "StyleView",
            "description_width": ""
          }
        },
        "0855097979f6432cb21b57a2e006310e": {
          "model_module": "@jupyter-widgets/base",
          "model_name": "LayoutModel",
          "model_module_version": "1.2.0",
          "state": {
            "_model_module": "@jupyter-widgets/base",
            "_model_module_version": "1.2.0",
            "_model_name": "LayoutModel",
            "_view_count": null,
            "_view_module": "@jupyter-widgets/base",
            "_view_module_version": "1.2.0",
            "_view_name": "LayoutView",
            "align_content": null,
            "align_items": null,
            "align_self": null,
            "border": null,
            "bottom": null,
            "display": null,
            "flex": null,
            "flex_flow": null,
            "grid_area": null,
            "grid_auto_columns": null,
            "grid_auto_flow": null,
            "grid_auto_rows": null,
            "grid_column": null,
            "grid_gap": null,
            "grid_row": null,
            "grid_template_areas": null,
            "grid_template_columns": null,
            "grid_template_rows": null,
            "height": null,
            "justify_content": null,
            "justify_items": null,
            "left": null,
            "margin": null,
            "max_height": null,
            "max_width": null,
            "min_height": null,
            "min_width": null,
            "object_fit": null,
            "object_position": null,
            "order": null,
            "overflow": null,
            "overflow_x": null,
            "overflow_y": null,
            "padding": null,
            "right": null,
            "top": null,
            "visibility": null,
            "width": null
          }
        },
        "0d004b5ee87c4f769a6bacf03678b43e": {
          "model_module": "@jupyter-widgets/controls",
          "model_name": "ProgressStyleModel",
          "model_module_version": "1.5.0",
          "state": {
            "_model_module": "@jupyter-widgets/controls",
            "_model_module_version": "1.5.0",
            "_model_name": "ProgressStyleModel",
            "_view_count": null,
            "_view_module": "@jupyter-widgets/base",
            "_view_module_version": "1.2.0",
            "_view_name": "StyleView",
            "bar_color": null,
            "description_width": ""
          }
        },
        "dc47293805a7486381cf32cf99052f53": {
          "model_module": "@jupyter-widgets/base",
          "model_name": "LayoutModel",
          "model_module_version": "1.2.0",
          "state": {
            "_model_module": "@jupyter-widgets/base",
            "_model_module_version": "1.2.0",
            "_model_name": "LayoutModel",
            "_view_count": null,
            "_view_module": "@jupyter-widgets/base",
            "_view_module_version": "1.2.0",
            "_view_name": "LayoutView",
            "align_content": null,
            "align_items": null,
            "align_self": null,
            "border": null,
            "bottom": null,
            "display": null,
            "flex": null,
            "flex_flow": null,
            "grid_area": null,
            "grid_auto_columns": null,
            "grid_auto_flow": null,
            "grid_auto_rows": null,
            "grid_column": null,
            "grid_gap": null,
            "grid_row": null,
            "grid_template_areas": null,
            "grid_template_columns": null,
            "grid_template_rows": null,
            "height": null,
            "justify_content": null,
            "justify_items": null,
            "left": null,
            "margin": null,
            "max_height": null,
            "max_width": null,
            "min_height": null,
            "min_width": null,
            "object_fit": null,
            "object_position": null,
            "order": null,
            "overflow": null,
            "overflow_x": null,
            "overflow_y": null,
            "padding": null,
            "right": null,
            "top": null,
            "visibility": null,
            "width": null
          }
        },
        "15a52eff58f948a29c3cb842a334d368": {
          "model_module": "@jupyter-widgets/controls",
          "model_name": "DescriptionStyleModel",
          "model_module_version": "1.5.0",
          "state": {
            "_model_module": "@jupyter-widgets/controls",
            "_model_module_version": "1.5.0",
            "_model_name": "DescriptionStyleModel",
            "_view_count": null,
            "_view_module": "@jupyter-widgets/base",
            "_view_module_version": "1.2.0",
            "_view_name": "StyleView",
            "description_width": ""
          }
        },
        "c606a415f86449ec89b8663a71c7ef5a": {
          "model_module": "@jupyter-widgets/controls",
          "model_name": "HBoxModel",
          "model_module_version": "1.5.0",
          "state": {
            "_dom_classes": [],
            "_model_module": "@jupyter-widgets/controls",
            "_model_module_version": "1.5.0",
            "_model_name": "HBoxModel",
            "_view_count": null,
            "_view_module": "@jupyter-widgets/controls",
            "_view_module_version": "1.5.0",
            "_view_name": "HBoxView",
            "box_style": "",
            "children": [
              "IPY_MODEL_5eab71185ef84819b8988f49f4b7cc28",
              "IPY_MODEL_2e1447bef41e4d7eb250e3a6217db8e4",
              "IPY_MODEL_5fa7442f694a4c18b84dddcca8305af2"
            ],
            "layout": "IPY_MODEL_65ffa2912fd746338423329332a62a00"
          }
        },
        "5eab71185ef84819b8988f49f4b7cc28": {
          "model_module": "@jupyter-widgets/controls",
          "model_name": "HTMLModel",
          "model_module_version": "1.5.0",
          "state": {
            "_dom_classes": [],
            "_model_module": "@jupyter-widgets/controls",
            "_model_module_version": "1.5.0",
            "_model_name": "HTMLModel",
            "_view_count": null,
            "_view_module": "@jupyter-widgets/controls",
            "_view_module_version": "1.5.0",
            "_view_name": "HTMLView",
            "description": "",
            "description_tooltip": null,
            "layout": "IPY_MODEL_8fc71692369e422fb96f606bc4accfbf",
            "placeholder": "​",
            "style": "IPY_MODEL_9d2383bebe3f44ce92b28f39280dee64",
            "value": " 60%"
          }
        },
        "2e1447bef41e4d7eb250e3a6217db8e4": {
          "model_module": "@jupyter-widgets/controls",
          "model_name": "FloatProgressModel",
          "model_module_version": "1.5.0",
          "state": {
            "_dom_classes": [],
            "_model_module": "@jupyter-widgets/controls",
            "_model_module_version": "1.5.0",
            "_model_name": "FloatProgressModel",
            "_view_count": null,
            "_view_module": "@jupyter-widgets/controls",
            "_view_module_version": "1.5.0",
            "_view_name": "ProgressView",
            "bar_style": "danger",
            "description": "",
            "description_tooltip": null,
            "layout": "IPY_MODEL_759dd34000984d228c147a1fb9b8f0a0",
            "max": 50000,
            "min": 0,
            "orientation": "horizontal",
            "style": "IPY_MODEL_6d1c32266f6f4f63a53f62c2cf089856",
            "value": 29944
          }
        },
        "5fa7442f694a4c18b84dddcca8305af2": {
          "model_module": "@jupyter-widgets/controls",
          "model_name": "HTMLModel",
          "model_module_version": "1.5.0",
          "state": {
            "_dom_classes": [],
            "_model_module": "@jupyter-widgets/controls",
            "_model_module_version": "1.5.0",
            "_model_name": "HTMLModel",
            "_view_count": null,
            "_view_module": "@jupyter-widgets/controls",
            "_view_module_version": "1.5.0",
            "_view_name": "HTMLView",
            "description": "",
            "description_tooltip": null,
            "layout": "IPY_MODEL_be7cf7bb1e234841b37e546e3025dd65",
            "placeholder": "​",
            "style": "IPY_MODEL_19451df7c86e48959b9141af10541978",
            "value": " 29944/50000 [00:00&lt;00:00, 347093.07it/s]"
          }
        },
        "65ffa2912fd746338423329332a62a00": {
          "model_module": "@jupyter-widgets/base",
          "model_name": "LayoutModel",
          "model_module_version": "1.2.0",
          "state": {
            "_model_module": "@jupyter-widgets/base",
            "_model_module_version": "1.2.0",
            "_model_name": "LayoutModel",
            "_view_count": null,
            "_view_module": "@jupyter-widgets/base",
            "_view_module_version": "1.2.0",
            "_view_name": "LayoutView",
            "align_content": null,
            "align_items": null,
            "align_self": null,
            "border": null,
            "bottom": null,
            "display": null,
            "flex": null,
            "flex_flow": null,
            "grid_area": null,
            "grid_auto_columns": null,
            "grid_auto_flow": null,
            "grid_auto_rows": null,
            "grid_column": null,
            "grid_gap": null,
            "grid_row": null,
            "grid_template_areas": null,
            "grid_template_columns": null,
            "grid_template_rows": null,
            "height": null,
            "justify_content": null,
            "justify_items": null,
            "left": null,
            "margin": null,
            "max_height": null,
            "max_width": null,
            "min_height": null,
            "min_width": null,
            "object_fit": null,
            "object_position": null,
            "order": null,
            "overflow": null,
            "overflow_x": null,
            "overflow_y": null,
            "padding": null,
            "right": null,
            "top": null,
            "visibility": null,
            "width": null
          }
        },
        "8fc71692369e422fb96f606bc4accfbf": {
          "model_module": "@jupyter-widgets/base",
          "model_name": "LayoutModel",
          "model_module_version": "1.2.0",
          "state": {
            "_model_module": "@jupyter-widgets/base",
            "_model_module_version": "1.2.0",
            "_model_name": "LayoutModel",
            "_view_count": null,
            "_view_module": "@jupyter-widgets/base",
            "_view_module_version": "1.2.0",
            "_view_name": "LayoutView",
            "align_content": null,
            "align_items": null,
            "align_self": null,
            "border": null,
            "bottom": null,
            "display": null,
            "flex": null,
            "flex_flow": null,
            "grid_area": null,
            "grid_auto_columns": null,
            "grid_auto_flow": null,
            "grid_auto_rows": null,
            "grid_column": null,
            "grid_gap": null,
            "grid_row": null,
            "grid_template_areas": null,
            "grid_template_columns": null,
            "grid_template_rows": null,
            "height": null,
            "justify_content": null,
            "justify_items": null,
            "left": null,
            "margin": null,
            "max_height": null,
            "max_width": null,
            "min_height": null,
            "min_width": null,
            "object_fit": null,
            "object_position": null,
            "order": null,
            "overflow": null,
            "overflow_x": null,
            "overflow_y": null,
            "padding": null,
            "right": null,
            "top": null,
            "visibility": null,
            "width": null
          }
        },
        "9d2383bebe3f44ce92b28f39280dee64": {
          "model_module": "@jupyter-widgets/controls",
          "model_name": "DescriptionStyleModel",
          "model_module_version": "1.5.0",
          "state": {
            "_model_module": "@jupyter-widgets/controls",
            "_model_module_version": "1.5.0",
            "_model_name": "DescriptionStyleModel",
            "_view_count": null,
            "_view_module": "@jupyter-widgets/base",
            "_view_module_version": "1.2.0",
            "_view_name": "StyleView",
            "description_width": ""
          }
        },
        "759dd34000984d228c147a1fb9b8f0a0": {
          "model_module": "@jupyter-widgets/base",
          "model_name": "LayoutModel",
          "model_module_version": "1.2.0",
          "state": {
            "_model_module": "@jupyter-widgets/base",
            "_model_module_version": "1.2.0",
            "_model_name": "LayoutModel",
            "_view_count": null,
            "_view_module": "@jupyter-widgets/base",
            "_view_module_version": "1.2.0",
            "_view_name": "LayoutView",
            "align_content": null,
            "align_items": null,
            "align_self": null,
            "border": null,
            "bottom": null,
            "display": null,
            "flex": null,
            "flex_flow": null,
            "grid_area": null,
            "grid_auto_columns": null,
            "grid_auto_flow": null,
            "grid_auto_rows": null,
            "grid_column": null,
            "grid_gap": null,
            "grid_row": null,
            "grid_template_areas": null,
            "grid_template_columns": null,
            "grid_template_rows": null,
            "height": null,
            "justify_content": null,
            "justify_items": null,
            "left": null,
            "margin": null,
            "max_height": null,
            "max_width": null,
            "min_height": null,
            "min_width": null,
            "object_fit": null,
            "object_position": null,
            "order": null,
            "overflow": null,
            "overflow_x": null,
            "overflow_y": null,
            "padding": null,
            "right": null,
            "top": null,
            "visibility": null,
            "width": null
          }
        },
        "6d1c32266f6f4f63a53f62c2cf089856": {
          "model_module": "@jupyter-widgets/controls",
          "model_name": "ProgressStyleModel",
          "model_module_version": "1.5.0",
          "state": {
            "_model_module": "@jupyter-widgets/controls",
            "_model_module_version": "1.5.0",
            "_model_name": "ProgressStyleModel",
            "_view_count": null,
            "_view_module": "@jupyter-widgets/base",
            "_view_module_version": "1.2.0",
            "_view_name": "StyleView",
            "bar_color": null,
            "description_width": ""
          }
        },
        "be7cf7bb1e234841b37e546e3025dd65": {
          "model_module": "@jupyter-widgets/base",
          "model_name": "LayoutModel",
          "model_module_version": "1.2.0",
          "state": {
            "_model_module": "@jupyter-widgets/base",
            "_model_module_version": "1.2.0",
            "_model_name": "LayoutModel",
            "_view_count": null,
            "_view_module": "@jupyter-widgets/base",
            "_view_module_version": "1.2.0",
            "_view_name": "LayoutView",
            "align_content": null,
            "align_items": null,
            "align_self": null,
            "border": null,
            "bottom": null,
            "display": null,
            "flex": null,
            "flex_flow": null,
            "grid_area": null,
            "grid_auto_columns": null,
            "grid_auto_flow": null,
            "grid_auto_rows": null,
            "grid_column": null,
            "grid_gap": null,
            "grid_row": null,
            "grid_template_areas": null,
            "grid_template_columns": null,
            "grid_template_rows": null,
            "height": null,
            "justify_content": null,
            "justify_items": null,
            "left": null,
            "margin": null,
            "max_height": null,
            "max_width": null,
            "min_height": null,
            "min_width": null,
            "object_fit": null,
            "object_position": null,
            "order": null,
            "overflow": null,
            "overflow_x": null,
            "overflow_y": null,
            "padding": null,
            "right": null,
            "top": null,
            "visibility": null,
            "width": null
          }
        },
        "19451df7c86e48959b9141af10541978": {
          "model_module": "@jupyter-widgets/controls",
          "model_name": "DescriptionStyleModel",
          "model_module_version": "1.5.0",
          "state": {
            "_model_module": "@jupyter-widgets/controls",
            "_model_module_version": "1.5.0",
            "_model_name": "DescriptionStyleModel",
            "_view_count": null,
            "_view_module": "@jupyter-widgets/base",
            "_view_module_version": "1.2.0",
            "_view_name": "StyleView",
            "description_width": ""
          }
        }
      }
    }
  },
  "cells": [
    {
      "cell_type": "markdown",
      "metadata": {
        "id": "view-in-github",
        "colab_type": "text"
      },
      "source": [
        "<a href=\"https://colab.research.google.com/github/apps1990/Apps/blob/master/learning_tqdm.ipynb\" target=\"_parent\"><img src=\"https://colab.research.google.com/assets/colab-badge.svg\" alt=\"Open In Colab\"/></a>"
      ]
    },
    {
      "cell_type": "code",
      "execution_count": 1,
      "metadata": {
        "colab": {
          "base_uri": "https://localhost:8080/"
        },
        "id": "hxb2hk3cFQoc",
        "outputId": "5b3b713b-4299-43b6-ee4a-f8073936fbb7"
      },
      "outputs": [
        {
          "output_type": "stream",
          "name": "stdout",
          "text": [
            "Requirement already satisfied: tqdm in /usr/local/lib/python3.10/dist-packages (4.66.1)\n"
          ]
        }
      ],
      "source": [
        "!pip install tqdm"
      ]
    },
    {
      "cell_type": "markdown",
      "source": [
        "### Example_1"
      ],
      "metadata": {
        "id": "TYmE6FfjJCjF"
      }
    },
    {
      "cell_type": "code",
      "source": [
        "# importing modules\n",
        "from tqdm import trange\n",
        "from time import sleep\n",
        "\n",
        "# creating loop\n",
        "for i in trange(10, desc =\"review loop progression \"):\n",
        "\n",
        "\t\t# slowing the for loop\n",
        "\t\tsleep(0.1)"
      ],
      "metadata": {
        "colab": {
          "base_uri": "https://localhost:8080/"
        },
        "id": "nKV_CO6bFWcw",
        "outputId": "50591eab-407a-446f-d3ee-554cb65d614e"
      },
      "execution_count": 9,
      "outputs": [
        {
          "output_type": "stream",
          "name": "stderr",
          "text": [
            "review loop progression : 100%|██████████| 10/10 [00:01<00:00,  9.85it/s]\n"
          ]
        }
      ]
    },
    {
      "cell_type": "markdown",
      "source": [
        "### Example_2"
      ],
      "metadata": {
        "id": "U4NRmjmrJEP_"
      }
    },
    {
      "cell_type": "code",
      "source": [
        "# importing modules\n",
        "from tqdm import tnrange\n",
        "from time import sleep\n",
        "\n",
        "# creating loop\n",
        "for i in tnrange(2, desc =\"loop 1\"):\n",
        "\n",
        "\t# creating nested loop\n",
        "\tfor j in tnrange(5, desc =\"loop 2\"):\n",
        "\n",
        "\t\t# slowing the for loop\n",
        "\t\tsleep(1)\n"
      ],
      "metadata": {
        "colab": {
          "base_uri": "https://localhost:8080/",
          "height": 184,
          "referenced_widgets": [
            "d8ff4222644846f6a47412287902466b",
            "16b49b85cca849b7b4982f2ce595104b",
            "0a12f7bd61fd404ea6304a2dcbab90f6",
            "c747d3d711e4434cba971d9b349a091f",
            "44138787d3834b6cb9ad678004c9f0d0",
            "82d53d33141346c39587f8104192ea02",
            "4d66243212c14a768411e8b18ebca4ca",
            "4b4ae62cd8d843369700a6429733add7",
            "e5dcda0d42f2426088d0e3e4d9c07292",
            "fa9c2cd3ac9c4bd79b20aca9be813d57",
            "4cf0375aec3942c982dc2584a63fed80",
            "19fb64ac9210497bb11fccdc0a01088e",
            "d07f966ee7dc478c92ba80a117a8827b",
            "578359303dec40349d6092b7f9c769fb",
            "910b8febdbd948bfb508c1e740dbe46d",
            "c5b97fda100a43cba939fb3c2e47b803",
            "5e7f07de89334545bf99bcdd67a28482",
            "2b499e7471504b76b8a911ae9f2a23fc",
            "876ec929ec9f4e0c9004574c4daee16e",
            "f26f763c02fe404bae74bc625aa18bea",
            "d8015e6b0b2c438cb9fbf0ad94aba3e7",
            "6866c3d099f546849908b44d6f1ac7e4",
            "b223cde37d404e64802255f82750da28",
            "9db1416d40bd42029608ab7cdf2339e7",
            "7f9787be5bcb433cb22053a29a5e51fd",
            "d4ae106ebe8c439090f1a8bcd772b878",
            "66a50f5a9ae441659c8e52339ed85191",
            "a45388c945464de885e0d03fd066cb9f",
            "6f2f5f4db567459b96536e0743381270",
            "bb63ff92257d43308530b86a1d0029af",
            "695a01bc1a134c0f89ba1544413361c8",
            "d191c56c00ec485c9fba169d07d7310c",
            "448ae99e64bf49ba8276f1b4ca061e73"
          ]
        },
        "id": "JbOyRBoYFmAi",
        "outputId": "b95545f8-1d1d-40b0-8e3d-91d69d4ec7a3"
      },
      "execution_count": 10,
      "outputs": [
        {
          "output_type": "stream",
          "name": "stderr",
          "text": [
            "<ipython-input-10-b7185e8499ca>:6: TqdmDeprecationWarning: Please use `tqdm.notebook.trange` instead of `tqdm.tnrange`\n",
            "  for i in tnrange(2, desc =\"loop 1\"):\n"
          ]
        },
        {
          "output_type": "display_data",
          "data": {
            "text/plain": [
              "loop 1:   0%|          | 0/2 [00:00<?, ?it/s]"
            ],
            "application/vnd.jupyter.widget-view+json": {
              "version_major": 2,
              "version_minor": 0,
              "model_id": "d8ff4222644846f6a47412287902466b"
            }
          },
          "metadata": {}
        },
        {
          "output_type": "stream",
          "name": "stderr",
          "text": [
            "<ipython-input-10-b7185e8499ca>:9: TqdmDeprecationWarning: Please use `tqdm.notebook.trange` instead of `tqdm.tnrange`\n",
            "  for j in tnrange(5, desc =\"loop 2\"):\n"
          ]
        },
        {
          "output_type": "display_data",
          "data": {
            "text/plain": [
              "loop 2:   0%|          | 0/5 [00:00<?, ?it/s]"
            ],
            "application/vnd.jupyter.widget-view+json": {
              "version_major": 2,
              "version_minor": 0,
              "model_id": "19fb64ac9210497bb11fccdc0a01088e"
            }
          },
          "metadata": {}
        },
        {
          "output_type": "display_data",
          "data": {
            "text/plain": [
              "loop 2:   0%|          | 0/5 [00:00<?, ?it/s]"
            ],
            "application/vnd.jupyter.widget-view+json": {
              "version_major": 2,
              "version_minor": 0,
              "model_id": "b223cde37d404e64802255f82750da28"
            }
          },
          "metadata": {}
        }
      ]
    },
    {
      "cell_type": "markdown",
      "source": [
        "### Example_3"
      ],
      "metadata": {
        "id": "dAHkujB6JGNX"
      }
    },
    {
      "cell_type": "code",
      "source": [
        "# importing modules\n",
        "import time\n",
        "import sys\n",
        "from tqdm import trange\n",
        "\n",
        "# random function\n",
        "def random_task():\n",
        "\ttime.sleep(0.5)\n",
        "\n",
        "# another random function\n",
        "def another_random_task():\n",
        "\ttime.sleep(0.2)\n",
        "\n",
        "# Outer loop\n",
        "for i in trange(3, file=sys.stdout, desc='Outer loop'):\n",
        "\trandom_task()\n",
        "\n",
        "\t# inner loop\n",
        "\tfor j in trange(5,file=sys.stdout, desc='Inner loop'):\n",
        "\t\tanother_random_task()\n"
      ],
      "metadata": {
        "colab": {
          "base_uri": "https://localhost:8080/"
        },
        "id": "mIaQPslBGfyG",
        "outputId": "62002932-fbc2-4dc6-c13f-ec7d575180c0"
      },
      "execution_count": 12,
      "outputs": [
        {
          "output_type": "stream",
          "name": "stdout",
          "text": [
            "Outer loop:   0%|          | 0/3 [00:00<?, ?it/s]\n",
            "Inner loop:   0%|          | 0/5 [00:00<?, ?it/s]\u001b[A\n",
            "Inner loop:  20%|██        | 1/5 [00:00<00:00,  4.99it/s]\u001b[A\n",
            "Inner loop:  40%|████      | 2/5 [00:00<00:00,  4.95it/s]\u001b[A\n",
            "Inner loop:  60%|██████    | 3/5 [00:00<00:00,  4.93it/s]\u001b[A\n",
            "Inner loop:  80%|████████  | 4/5 [00:00<00:00,  4.92it/s]\u001b[A\n",
            "Inner loop: 100%|██████████| 5/5 [00:01<00:00,  4.91it/s]\n",
            "Outer loop:  33%|███▎      | 1/3 [00:01<00:03,  1.53s/it]\n",
            "Inner loop:   0%|          | 0/5 [00:00<?, ?it/s]\u001b[A\n",
            "Inner loop:  20%|██        | 1/5 [00:00<00:00,  5.00it/s]\u001b[A\n",
            "Inner loop:  40%|████      | 2/5 [00:00<00:00,  4.94it/s]\u001b[A\n",
            "Inner loop:  60%|██████    | 3/5 [00:00<00:00,  4.92it/s]\u001b[A\n",
            "Inner loop:  80%|████████  | 4/5 [00:00<00:00,  4.91it/s]\u001b[A\n",
            "Inner loop: 100%|██████████| 5/5 [00:01<00:00,  4.90it/s]\n",
            "Outer loop:  67%|██████▋   | 2/3 [00:03<00:01,  1.53s/it]\n",
            "Inner loop:   0%|          | 0/5 [00:00<?, ?it/s]\u001b[A\n",
            "Inner loop:  20%|██        | 1/5 [00:00<00:00,  5.00it/s]\u001b[A\n",
            "Inner loop:  40%|████      | 2/5 [00:00<00:00,  4.96it/s]\u001b[A\n",
            "Inner loop:  60%|██████    | 3/5 [00:00<00:00,  4.94it/s]\u001b[A\n",
            "Inner loop:  80%|████████  | 4/5 [00:00<00:00,  4.93it/s]\u001b[A\n",
            "Inner loop: 100%|██████████| 5/5 [00:01<00:00,  4.92it/s]\n",
            "Outer loop: 100%|██████████| 3/3 [00:04<00:00,  1.53s/it]\n"
          ]
        }
      ]
    },
    {
      "cell_type": "code",
      "source": [],
      "metadata": {
        "id": "x5nufLfaJVSZ"
      },
      "execution_count": null,
      "outputs": []
    },
    {
      "cell_type": "markdown",
      "source": [
        "### Example_4"
      ],
      "metadata": {
        "id": "8Kg8meSALlnL"
      }
    },
    {
      "cell_type": "code",
      "source": [
        "from tqdm import tqdm\n",
        "from time import sleep\n",
        "\n",
        "fruits = tqdm([\"apple\",\"banana\",\"grapes\",\"papaya\"])\n",
        "for fruit in fruits:\n",
        "  sleep(1)\n",
        "  fruits.set_description(f\"picking {fruit}\")"
      ],
      "metadata": {
        "colab": {
          "base_uri": "https://localhost:8080/"
        },
        "id": "eR2FIRM_Lp5v",
        "outputId": "da0185aa-6fe4-4bf5-a9b4-5c624adb69a5"
      },
      "execution_count": 2,
      "outputs": [
        {
          "output_type": "stream",
          "name": "stderr",
          "text": [
            "picking papaya: 100%|██████████| 4/4 [00:04<00:00,  1.01s/it]\n"
          ]
        }
      ]
    },
    {
      "cell_type": "markdown",
      "source": [
        "### Example_5"
      ],
      "metadata": {
        "id": "_lfb3pOmSvgZ"
      }
    },
    {
      "cell_type": "code",
      "source": [
        "import pandas as pd\n",
        "import numpy as np"
      ],
      "metadata": {
        "id": "WnMTWKA3MH71"
      },
      "execution_count": 3,
      "outputs": []
    },
    {
      "cell_type": "code",
      "source": [
        "dogs = np.random.choice([\"beagle\",\"labradoodle\",\"mutt\"], size=50000)\n",
        "smell = np.random.randint(0,100,size=50000)\n",
        "df = pd.DataFrame(data=np.array([dogs,smell]).T, columns=[\"dogs\",\"smell\"])\n",
        "df.head()"
      ],
      "metadata": {
        "colab": {
          "base_uri": "https://localhost:8080/",
          "height": 206
        },
        "id": "cY326E9zSzCS",
        "outputId": "c711837c-ddd6-459d-c220-dd24486ba631"
      },
      "execution_count": 4,
      "outputs": [
        {
          "output_type": "execute_result",
          "data": {
            "text/plain": [
              "          dogs smell\n",
              "0  labradoodle     0\n",
              "1  labradoodle    49\n",
              "2       beagle    28\n",
              "3       beagle    12\n",
              "4  labradoodle    24"
            ],
            "text/html": [
              "\n",
              "  <div id=\"df-15c834e6-f0fa-4033-9f8d-3f78152231b5\" class=\"colab-df-container\">\n",
              "    <div>\n",
              "<style scoped>\n",
              "    .dataframe tbody tr th:only-of-type {\n",
              "        vertical-align: middle;\n",
              "    }\n",
              "\n",
              "    .dataframe tbody tr th {\n",
              "        vertical-align: top;\n",
              "    }\n",
              "\n",
              "    .dataframe thead th {\n",
              "        text-align: right;\n",
              "    }\n",
              "</style>\n",
              "<table border=\"1\" class=\"dataframe\">\n",
              "  <thead>\n",
              "    <tr style=\"text-align: right;\">\n",
              "      <th></th>\n",
              "      <th>dogs</th>\n",
              "      <th>smell</th>\n",
              "    </tr>\n",
              "  </thead>\n",
              "  <tbody>\n",
              "    <tr>\n",
              "      <th>0</th>\n",
              "      <td>labradoodle</td>\n",
              "      <td>0</td>\n",
              "    </tr>\n",
              "    <tr>\n",
              "      <th>1</th>\n",
              "      <td>labradoodle</td>\n",
              "      <td>49</td>\n",
              "    </tr>\n",
              "    <tr>\n",
              "      <th>2</th>\n",
              "      <td>beagle</td>\n",
              "      <td>28</td>\n",
              "    </tr>\n",
              "    <tr>\n",
              "      <th>3</th>\n",
              "      <td>beagle</td>\n",
              "      <td>12</td>\n",
              "    </tr>\n",
              "    <tr>\n",
              "      <th>4</th>\n",
              "      <td>labradoodle</td>\n",
              "      <td>24</td>\n",
              "    </tr>\n",
              "  </tbody>\n",
              "</table>\n",
              "</div>\n",
              "    <div class=\"colab-df-buttons\">\n",
              "\n",
              "  <div class=\"colab-df-container\">\n",
              "    <button class=\"colab-df-convert\" onclick=\"convertToInteractive('df-15c834e6-f0fa-4033-9f8d-3f78152231b5')\"\n",
              "            title=\"Convert this dataframe to an interactive table.\"\n",
              "            style=\"display:none;\">\n",
              "\n",
              "  <svg xmlns=\"http://www.w3.org/2000/svg\" height=\"24px\" viewBox=\"0 -960 960 960\">\n",
              "    <path d=\"M120-120v-720h720v720H120Zm60-500h600v-160H180v160Zm220 220h160v-160H400v160Zm0 220h160v-160H400v160ZM180-400h160v-160H180v160Zm440 0h160v-160H620v160ZM180-180h160v-160H180v160Zm440 0h160v-160H620v160Z\"/>\n",
              "  </svg>\n",
              "    </button>\n",
              "\n",
              "  <style>\n",
              "    .colab-df-container {\n",
              "      display:flex;\n",
              "      gap: 12px;\n",
              "    }\n",
              "\n",
              "    .colab-df-convert {\n",
              "      background-color: #E8F0FE;\n",
              "      border: none;\n",
              "      border-radius: 50%;\n",
              "      cursor: pointer;\n",
              "      display: none;\n",
              "      fill: #1967D2;\n",
              "      height: 32px;\n",
              "      padding: 0 0 0 0;\n",
              "      width: 32px;\n",
              "    }\n",
              "\n",
              "    .colab-df-convert:hover {\n",
              "      background-color: #E2EBFA;\n",
              "      box-shadow: 0px 1px 2px rgba(60, 64, 67, 0.3), 0px 1px 3px 1px rgba(60, 64, 67, 0.15);\n",
              "      fill: #174EA6;\n",
              "    }\n",
              "\n",
              "    .colab-df-buttons div {\n",
              "      margin-bottom: 4px;\n",
              "    }\n",
              "\n",
              "    [theme=dark] .colab-df-convert {\n",
              "      background-color: #3B4455;\n",
              "      fill: #D2E3FC;\n",
              "    }\n",
              "\n",
              "    [theme=dark] .colab-df-convert:hover {\n",
              "      background-color: #434B5C;\n",
              "      box-shadow: 0px 1px 3px 1px rgba(0, 0, 0, 0.15);\n",
              "      filter: drop-shadow(0px 1px 2px rgba(0, 0, 0, 0.3));\n",
              "      fill: #FFFFFF;\n",
              "    }\n",
              "  </style>\n",
              "\n",
              "    <script>\n",
              "      const buttonEl =\n",
              "        document.querySelector('#df-15c834e6-f0fa-4033-9f8d-3f78152231b5 button.colab-df-convert');\n",
              "      buttonEl.style.display =\n",
              "        google.colab.kernel.accessAllowed ? 'block' : 'none';\n",
              "\n",
              "      async function convertToInteractive(key) {\n",
              "        const element = document.querySelector('#df-15c834e6-f0fa-4033-9f8d-3f78152231b5');\n",
              "        const dataTable =\n",
              "          await google.colab.kernel.invokeFunction('convertToInteractive',\n",
              "                                                    [key], {});\n",
              "        if (!dataTable) return;\n",
              "\n",
              "        const docLinkHtml = 'Like what you see? Visit the ' +\n",
              "          '<a target=\"_blank\" href=https://colab.research.google.com/notebooks/data_table.ipynb>data table notebook</a>'\n",
              "          + ' to learn more about interactive tables.';\n",
              "        element.innerHTML = '';\n",
              "        dataTable['output_type'] = 'display_data';\n",
              "        await google.colab.output.renderOutput(dataTable, element);\n",
              "        const docLink = document.createElement('div');\n",
              "        docLink.innerHTML = docLinkHtml;\n",
              "        element.appendChild(docLink);\n",
              "      }\n",
              "    </script>\n",
              "  </div>\n",
              "\n",
              "\n",
              "<div id=\"df-b58232ec-1985-4521-aff9-db6b8b1c824a\">\n",
              "  <button class=\"colab-df-quickchart\" onclick=\"quickchart('df-b58232ec-1985-4521-aff9-db6b8b1c824a')\"\n",
              "            title=\"Suggest charts.\"\n",
              "            style=\"display:none;\">\n",
              "\n",
              "<svg xmlns=\"http://www.w3.org/2000/svg\" height=\"24px\"viewBox=\"0 0 24 24\"\n",
              "     width=\"24px\">\n",
              "    <g>\n",
              "        <path d=\"M19 3H5c-1.1 0-2 .9-2 2v14c0 1.1.9 2 2 2h14c1.1 0 2-.9 2-2V5c0-1.1-.9-2-2-2zM9 17H7v-7h2v7zm4 0h-2V7h2v10zm4 0h-2v-4h2v4z\"/>\n",
              "    </g>\n",
              "</svg>\n",
              "  </button>\n",
              "\n",
              "<style>\n",
              "  .colab-df-quickchart {\n",
              "      --bg-color: #E8F0FE;\n",
              "      --fill-color: #1967D2;\n",
              "      --hover-bg-color: #E2EBFA;\n",
              "      --hover-fill-color: #174EA6;\n",
              "      --disabled-fill-color: #AAA;\n",
              "      --disabled-bg-color: #DDD;\n",
              "  }\n",
              "\n",
              "  [theme=dark] .colab-df-quickchart {\n",
              "      --bg-color: #3B4455;\n",
              "      --fill-color: #D2E3FC;\n",
              "      --hover-bg-color: #434B5C;\n",
              "      --hover-fill-color: #FFFFFF;\n",
              "      --disabled-bg-color: #3B4455;\n",
              "      --disabled-fill-color: #666;\n",
              "  }\n",
              "\n",
              "  .colab-df-quickchart {\n",
              "    background-color: var(--bg-color);\n",
              "    border: none;\n",
              "    border-radius: 50%;\n",
              "    cursor: pointer;\n",
              "    display: none;\n",
              "    fill: var(--fill-color);\n",
              "    height: 32px;\n",
              "    padding: 0;\n",
              "    width: 32px;\n",
              "  }\n",
              "\n",
              "  .colab-df-quickchart:hover {\n",
              "    background-color: var(--hover-bg-color);\n",
              "    box-shadow: 0 1px 2px rgba(60, 64, 67, 0.3), 0 1px 3px 1px rgba(60, 64, 67, 0.15);\n",
              "    fill: var(--button-hover-fill-color);\n",
              "  }\n",
              "\n",
              "  .colab-df-quickchart-complete:disabled,\n",
              "  .colab-df-quickchart-complete:disabled:hover {\n",
              "    background-color: var(--disabled-bg-color);\n",
              "    fill: var(--disabled-fill-color);\n",
              "    box-shadow: none;\n",
              "  }\n",
              "\n",
              "  .colab-df-spinner {\n",
              "    border: 2px solid var(--fill-color);\n",
              "    border-color: transparent;\n",
              "    border-bottom-color: var(--fill-color);\n",
              "    animation:\n",
              "      spin 1s steps(1) infinite;\n",
              "  }\n",
              "\n",
              "  @keyframes spin {\n",
              "    0% {\n",
              "      border-color: transparent;\n",
              "      border-bottom-color: var(--fill-color);\n",
              "      border-left-color: var(--fill-color);\n",
              "    }\n",
              "    20% {\n",
              "      border-color: transparent;\n",
              "      border-left-color: var(--fill-color);\n",
              "      border-top-color: var(--fill-color);\n",
              "    }\n",
              "    30% {\n",
              "      border-color: transparent;\n",
              "      border-left-color: var(--fill-color);\n",
              "      border-top-color: var(--fill-color);\n",
              "      border-right-color: var(--fill-color);\n",
              "    }\n",
              "    40% {\n",
              "      border-color: transparent;\n",
              "      border-right-color: var(--fill-color);\n",
              "      border-top-color: var(--fill-color);\n",
              "    }\n",
              "    60% {\n",
              "      border-color: transparent;\n",
              "      border-right-color: var(--fill-color);\n",
              "    }\n",
              "    80% {\n",
              "      border-color: transparent;\n",
              "      border-right-color: var(--fill-color);\n",
              "      border-bottom-color: var(--fill-color);\n",
              "    }\n",
              "    90% {\n",
              "      border-color: transparent;\n",
              "      border-bottom-color: var(--fill-color);\n",
              "    }\n",
              "  }\n",
              "</style>\n",
              "\n",
              "  <script>\n",
              "    async function quickchart(key) {\n",
              "      const quickchartButtonEl =\n",
              "        document.querySelector('#' + key + ' button');\n",
              "      quickchartButtonEl.disabled = true;  // To prevent multiple clicks.\n",
              "      quickchartButtonEl.classList.add('colab-df-spinner');\n",
              "      try {\n",
              "        const charts = await google.colab.kernel.invokeFunction(\n",
              "            'suggestCharts', [key], {});\n",
              "      } catch (error) {\n",
              "        console.error('Error during call to suggestCharts:', error);\n",
              "      }\n",
              "      quickchartButtonEl.classList.remove('colab-df-spinner');\n",
              "      quickchartButtonEl.classList.add('colab-df-quickchart-complete');\n",
              "    }\n",
              "    (() => {\n",
              "      let quickchartButtonEl =\n",
              "        document.querySelector('#df-b58232ec-1985-4521-aff9-db6b8b1c824a button');\n",
              "      quickchartButtonEl.style.display =\n",
              "        google.colab.kernel.accessAllowed ? 'block' : 'none';\n",
              "    })();\n",
              "  </script>\n",
              "</div>\n",
              "    </div>\n",
              "  </div>\n"
            ]
          },
          "metadata": {},
          "execution_count": 4
        }
      ]
    },
    {
      "cell_type": "markdown",
      "source": [
        "### Few Additional Examples"
      ],
      "metadata": {
        "id": "_CBAyIagMqMM"
      }
    },
    {
      "cell_type": "markdown",
      "source": [
        "#### TQDM Basics"
      ],
      "metadata": {
        "id": "_hczhXDXTm7P"
      }
    },
    {
      "cell_type": "code",
      "source": [
        "for dog in tqdm(dogs):\n",
        "  sleep(0.00000001)"
      ],
      "metadata": {
        "colab": {
          "base_uri": "https://localhost:8080/"
        },
        "id": "F8nRbb6ATcb1",
        "outputId": "e038d02f-de94-4bc0-bf46-553325f69943"
      },
      "execution_count": 6,
      "outputs": [
        {
          "output_type": "stream",
          "name": "stderr",
          "text": [
            "100%|██████████| 50000/50000 [00:03<00:00, 15127.48it/s]\n"
          ]
        }
      ]
    },
    {
      "cell_type": "code",
      "source": [
        "for i in trange(50):\n",
        "  sleep(0.1)\n",
        "print('done dona done')"
      ],
      "metadata": {
        "colab": {
          "base_uri": "https://localhost:8080/"
        },
        "id": "FhyShSh9GiPy",
        "outputId": "abd21c4e-4244-42b8-a5c2-d401175f28c8"
      },
      "execution_count": 13,
      "outputs": [
        {
          "output_type": "stream",
          "name": "stderr",
          "text": [
            "100%|██████████| 50/50 [00:05<00:00,  9.87it/s]"
          ]
        },
        {
          "output_type": "stream",
          "name": "stdout",
          "text": [
            "done dona done\n"
          ]
        },
        {
          "output_type": "stream",
          "name": "stderr",
          "text": [
            "\n"
          ]
        }
      ]
    },
    {
      "cell_type": "code",
      "source": [
        "len(dogs)"
      ],
      "metadata": {
        "colab": {
          "base_uri": "https://localhost:8080/"
        },
        "id": "cgAkfyzIG8-5",
        "outputId": "4a76541f-68a6-4197-e20c-c21b2acfdd99"
      },
      "execution_count": 14,
      "outputs": [
        {
          "output_type": "execute_result",
          "data": {
            "text/plain": [
              "50000"
            ]
          },
          "metadata": {},
          "execution_count": 14
        }
      ]
    },
    {
      "cell_type": "code",
      "source": [
        "for dog in tqdm(dogs, total=50001):\n",
        "  sleep(0.00001)"
      ],
      "metadata": {
        "colab": {
          "base_uri": "https://localhost:8080/"
        },
        "id": "La6argWKHZyV",
        "outputId": "69013c61-c871-4323-f379-54c79caedc04"
      },
      "execution_count": 16,
      "outputs": [
        {
          "output_type": "stream",
          "name": "stderr",
          "text": [
            "100%|█████████▉| 50000/50001 [00:03<00:00, 13906.07it/s]\n"
          ]
        }
      ]
    },
    {
      "cell_type": "code",
      "source": [
        "pbar = tqdm(total=50000)\n",
        "for s in smell:\n",
        "  pbar.update(1)\n",
        "  sleep(0.0001)\n",
        "pbar.close()"
      ],
      "metadata": {
        "colab": {
          "base_uri": "https://localhost:8080/"
        },
        "id": "VwDJLQLTHlwa",
        "outputId": "eafd7223-a85a-44d7-d085-49d1a4862a02"
      },
      "execution_count": 21,
      "outputs": [
        {
          "output_type": "stream",
          "name": "stderr",
          "text": [
            "100%|██████████| 50000/50000 [00:08<00:00, 5829.24it/s]\n"
          ]
        }
      ]
    },
    {
      "cell_type": "markdown",
      "source": [
        "#### Setting Description and Unit Type"
      ],
      "metadata": {
        "id": "LChBGhjbJegD"
      }
    },
    {
      "cell_type": "code",
      "source": [
        "for dog in tqdm(dogs, desc='dog counter', unit = 'barks'):\n",
        "  sleep(0.0001)"
      ],
      "metadata": {
        "colab": {
          "base_uri": "https://localhost:8080/"
        },
        "id": "Ew4yvwXmJJ4L",
        "outputId": "1ba77304-2cdb-4849-dc34-d6ce57e45047"
      },
      "execution_count": 22,
      "outputs": [
        {
          "output_type": "stream",
          "name": "stderr",
          "text": [
            "dog counter: 100%|██████████| 50000/50000 [00:08<00:00, 5723.65barks/s]\n"
          ]
        }
      ]
    },
    {
      "cell_type": "markdown",
      "source": [
        "#### Nested Progress Bar"
      ],
      "metadata": {
        "id": "xMjy7PbTKHTs"
      }
    },
    {
      "cell_type": "code",
      "source": [
        "for dog in tqdm(dogs[:5], desc='dog counter', total=5):\n",
        "  for s in tqdm(smell[:2], desc='smell counter', total=2):\n",
        "    sleep(1)"
      ],
      "metadata": {
        "colab": {
          "base_uri": "https://localhost:8080/"
        },
        "id": "Ii-E1OlJJ_Fv",
        "outputId": "3326a8e4-82e5-4468-b13c-2290e92b6df8"
      },
      "execution_count": 26,
      "outputs": [
        {
          "output_type": "stream",
          "name": "stderr",
          "text": [
            "dog counter:   0%|          | 0/5 [00:00<?, ?it/s]\n",
            "smell counter:   0%|          | 0/2 [00:00<?, ?it/s]\u001b[A\n",
            "smell counter:  50%|█████     | 1/2 [00:01<00:01,  1.00s/it]\u001b[A\n",
            "smell counter: 100%|██████████| 2/2 [00:02<00:00,  1.01s/it]\n",
            "dog counter:  20%|██        | 1/5 [00:02<00:08,  2.02s/it]\n",
            "smell counter:   0%|          | 0/2 [00:00<?, ?it/s]\u001b[A\n",
            "smell counter:  50%|█████     | 1/2 [00:01<00:01,  1.00s/it]\u001b[A\n",
            "smell counter: 100%|██████████| 2/2 [00:02<00:00,  1.00s/it]\n",
            "dog counter:  40%|████      | 2/5 [00:04<00:06,  2.02s/it]\n",
            "smell counter:   0%|          | 0/2 [00:00<?, ?it/s]\u001b[A\n",
            "smell counter:  50%|█████     | 1/2 [00:01<00:01,  1.00s/it]\u001b[A\n",
            "smell counter: 100%|██████████| 2/2 [00:02<00:00,  1.00s/it]\n",
            "dog counter:  60%|██████    | 3/5 [00:06<00:04,  2.02s/it]\n",
            "smell counter:   0%|          | 0/2 [00:00<?, ?it/s]\u001b[A\n",
            "smell counter:  50%|█████     | 1/2 [00:01<00:01,  1.00s/it]\u001b[A\n",
            "smell counter: 100%|██████████| 2/2 [00:02<00:00,  1.01s/it]\n",
            "dog counter:  80%|████████  | 4/5 [00:08<00:02,  2.02s/it]\n",
            "smell counter:   0%|          | 0/2 [00:00<?, ?it/s]\u001b[A\n",
            "smell counter:  50%|█████     | 1/2 [00:01<00:01,  1.00s/it]\u001b[A\n",
            "smell counter: 100%|██████████| 2/2 [00:02<00:00,  1.01s/it]\n",
            "dog counter: 100%|██████████| 5/5 [00:10<00:00,  2.02s/it]\n"
          ]
        }
      ]
    },
    {
      "cell_type": "markdown",
      "source": [
        "#### Dynamic Description"
      ],
      "metadata": {
        "id": "IIvJtT7aLIdZ"
      }
    },
    {
      "cell_type": "code",
      "source": [
        "pbar = tqdm(dogs[:10])\n",
        "for dog in pbar:\n",
        "  sleep(0.5)\n",
        "  pbar.set_description(f'Processing {dog}')"
      ],
      "metadata": {
        "colab": {
          "base_uri": "https://localhost:8080/"
        },
        "id": "TPDD-Cj9K24H",
        "outputId": "97197bef-282e-434f-b295-9d17bf3b61d2"
      },
      "execution_count": 29,
      "outputs": [
        {
          "output_type": "stream",
          "name": "stderr",
          "text": [
            "Processing beagle: 100%|██████████| 10/10 [00:05<00:00,  1.99it/s]\n"
          ]
        }
      ]
    },
    {
      "cell_type": "markdown",
      "source": [
        "#### Control Bar Size"
      ],
      "metadata": {
        "id": "XQbvckYmLxbm"
      }
    },
    {
      "cell_type": "code",
      "source": [
        "for i in tqdm(range(999999), ncols=55):\n",
        "  pass"
      ],
      "metadata": {
        "colab": {
          "base_uri": "https://localhost:8080/"
        },
        "id": "4md_EyJ9LoOf",
        "outputId": "5ad028c3-d711-4c84-fd1e-e4292c7500af"
      },
      "execution_count": 30,
      "outputs": [
        {
          "output_type": "stream",
          "name": "stderr",
          "text": [
            "100%|█████| 999999/999999 [00:00<00:00, 1240968.14it/s]\n"
          ]
        }
      ]
    },
    {
      "cell_type": "code",
      "source": [
        "## Remove Time Stats\n",
        "for i in tqdm(range(999999), ncols=20):\n",
        "  pass"
      ],
      "metadata": {
        "colab": {
          "base_uri": "https://localhost:8080/"
        },
        "id": "HTF933FuMMKd",
        "outputId": "b92b1b33-4bb3-4262-b0be-60eb8b1dae7c"
      },
      "execution_count": 31,
      "outputs": [
        {
          "output_type": "stream",
          "name": "stderr",
          "text": [
            "100%|█| 999999/99999\n"
          ]
        }
      ]
    },
    {
      "cell_type": "code",
      "source": [
        "## Only show %\n",
        "for i in tqdm(range(999999), ncols=4):\n",
        "  pass"
      ],
      "metadata": {
        "colab": {
          "base_uri": "https://localhost:8080/"
        },
        "id": "2C9ug-WSMSa4",
        "outputId": "3a75ffe6-b6c2-425f-cc8c-33667434348b"
      },
      "execution_count": 32,
      "outputs": [
        {
          "output_type": "stream",
          "name": "stderr",
          "text": [
            "100%\n"
          ]
        }
      ]
    },
    {
      "cell_type": "markdown",
      "source": [
        "#### Setting the Interval"
      ],
      "metadata": {
        "id": "UiXfVubiMxPa"
      }
    },
    {
      "cell_type": "code",
      "source": [
        "for dog in tqdm(dogs, mininterval=1):\n",
        "  sleep(0.0001)"
      ],
      "metadata": {
        "colab": {
          "base_uri": "https://localhost:8080/"
        },
        "id": "zFZKVaK-MYYj",
        "outputId": "5b997494-ce1a-4fe9-d50d-1be75fe89973"
      },
      "execution_count": 33,
      "outputs": [
        {
          "output_type": "stream",
          "name": "stderr",
          "text": [
            "100%|██████████| 50000/50000 [00:08<00:00, 5975.14it/s]\n"
          ]
        }
      ]
    },
    {
      "cell_type": "code",
      "source": [
        "for dog in tqdm(dogs, maxinterval=1):\n",
        "  sleep(0.0001)"
      ],
      "metadata": {
        "colab": {
          "base_uri": "https://localhost:8080/"
        },
        "id": "svjiMFfdNAbt",
        "outputId": "9d9bbc2d-f524-48cd-f856-cc94812e9f2f"
      },
      "execution_count": 34,
      "outputs": [
        {
          "output_type": "stream",
          "name": "stderr",
          "text": [
            "100%|██████████| 50000/50000 [00:08<00:00, 5756.91it/s]\n"
          ]
        }
      ]
    },
    {
      "cell_type": "markdown",
      "source": [
        "#### Disabling Progress Bar"
      ],
      "metadata": {
        "id": "HfWL3CogOOM-"
      }
    },
    {
      "cell_type": "code",
      "source": [
        "debug = False\n",
        "for s in tqdm(smell, disable= not debug):\n",
        "  sleep(0.0001)"
      ],
      "metadata": {
        "id": "Pgt_8R-WNIaj"
      },
      "execution_count": 36,
      "outputs": []
    },
    {
      "cell_type": "markdown",
      "source": [
        "#### TQDM + Pandas"
      ],
      "metadata": {
        "id": "lcPuVWpzO6ZI"
      }
    },
    {
      "cell_type": "code",
      "source": [
        "tqdm.pandas(desc = 'dogs bar')\n",
        "df.progress_apply(lambda row: row['smell'], axis=1)"
      ],
      "metadata": {
        "colab": {
          "base_uri": "https://localhost:8080/"
        },
        "id": "O-Coqx1FOflr",
        "outputId": "beb7f3e4-5a9b-490c-df48-bc0dd4c78535"
      },
      "execution_count": 42,
      "outputs": [
        {
          "output_type": "stream",
          "name": "stderr",
          "text": [
            "dogs bar: 100%|██████████| 50000/50000 [00:00<00:00, 104596.47it/s]\n"
          ]
        },
        {
          "output_type": "execute_result",
          "data": {
            "text/plain": [
              "0         0\n",
              "1        49\n",
              "2        28\n",
              "3        12\n",
              "4        24\n",
              "         ..\n",
              "49995    27\n",
              "49996    89\n",
              "49997    53\n",
              "49998     9\n",
              "49999    37\n",
              "Length: 50000, dtype: object"
            ]
          },
          "metadata": {},
          "execution_count": 42
        }
      ]
    },
    {
      "cell_type": "code",
      "source": [
        "df.groupby('dogs').progress_apply(lambda row: row['smell'])"
      ],
      "metadata": {
        "colab": {
          "base_uri": "https://localhost:8080/"
        },
        "id": "0jdchjXAPQY-",
        "outputId": "d73f69c9-45cb-4ffb-cd3c-50f842d97328"
      },
      "execution_count": 47,
      "outputs": [
        {
          "output_type": "stream",
          "name": "stderr",
          "text": [
            "dogs bar: 100%|██████████| 3/3 [00:00<00:00, 80.73it/s]\n"
          ]
        },
        {
          "output_type": "execute_result",
          "data": {
            "text/plain": [
              "dogs         \n",
              "beagle  2        28\n",
              "        3        12\n",
              "        9        53\n",
              "        10       66\n",
              "        13       54\n",
              "                 ..\n",
              "mutt    49972     6\n",
              "        49973    61\n",
              "        49975    83\n",
              "        49991    73\n",
              "        49998     9\n",
              "Name: smell, Length: 50000, dtype: object"
            ]
          },
          "metadata": {},
          "execution_count": 47
        }
      ]
    },
    {
      "cell_type": "markdown",
      "source": [
        "#### TQDM in Notebook"
      ],
      "metadata": {
        "id": "6zxQJXKXQfd4"
      }
    },
    {
      "cell_type": "code",
      "source": [
        "from tqdm.notebook import tqdm"
      ],
      "metadata": {
        "id": "pQJXSTrdQYTi"
      },
      "execution_count": 48,
      "outputs": []
    },
    {
      "cell_type": "code",
      "source": [
        "for dog in tqdm(dogs):\n",
        "  sleep(0.00001)"
      ],
      "metadata": {
        "colab": {
          "base_uri": "https://localhost:8080/",
          "height": 49,
          "referenced_widgets": [
            "2abfd8813e1e496cb4131b8d0a95b840",
            "a69944e99f6c4f0595b51b16b929f14b",
            "e5184c2122b345e1bb2add67fa550ed8",
            "a2207cc10b0e475a803b9011207fb250",
            "7c8e7fd0be034ed4bda8176fddde5b7b",
            "8ffb676adf134efa9a79725f5176e75b",
            "46e8dec33cb04d438aa3420edaa62b0b",
            "0855097979f6432cb21b57a2e006310e",
            "0d004b5ee87c4f769a6bacf03678b43e",
            "dc47293805a7486381cf32cf99052f53",
            "15a52eff58f948a29c3cb842a334d368"
          ]
        },
        "id": "coooYtVDQsMd",
        "outputId": "d5205b61-6acc-4e2e-cf79-3149e7dce875"
      },
      "execution_count": 50,
      "outputs": [
        {
          "output_type": "display_data",
          "data": {
            "text/plain": [
              "  0%|          | 0/50000 [00:00<?, ?it/s]"
            ],
            "application/vnd.jupyter.widget-view+json": {
              "version_major": 2,
              "version_minor": 0,
              "model_id": "2abfd8813e1e496cb4131b8d0a95b840"
            }
          },
          "metadata": {}
        }
      ]
    },
    {
      "cell_type": "code",
      "source": [
        "counter = 0\n",
        "for dog in tqdm(dogs):\n",
        "  if dog == 'beagle':\n",
        "    counter += 1\n",
        "  if counter == 10000:\n",
        "    break"
      ],
      "metadata": {
        "colab": {
          "base_uri": "https://localhost:8080/",
          "height": 49,
          "referenced_widgets": [
            "c606a415f86449ec89b8663a71c7ef5a",
            "5eab71185ef84819b8988f49f4b7cc28",
            "2e1447bef41e4d7eb250e3a6217db8e4",
            "5fa7442f694a4c18b84dddcca8305af2",
            "65ffa2912fd746338423329332a62a00",
            "8fc71692369e422fb96f606bc4accfbf",
            "9d2383bebe3f44ce92b28f39280dee64",
            "759dd34000984d228c147a1fb9b8f0a0",
            "6d1c32266f6f4f63a53f62c2cf089856",
            "be7cf7bb1e234841b37e546e3025dd65",
            "19451df7c86e48959b9141af10541978"
          ]
        },
        "id": "voS7_KwyQxgj",
        "outputId": "949c9117-31f8-4f50-9038-0da2acb8a814"
      },
      "execution_count": 51,
      "outputs": [
        {
          "output_type": "display_data",
          "data": {
            "text/plain": [
              "  0%|          | 0/50000 [00:00<?, ?it/s]"
            ],
            "application/vnd.jupyter.widget-view+json": {
              "version_major": 2,
              "version_minor": 0,
              "model_id": "c606a415f86449ec89b8663a71c7ef5a"
            }
          },
          "metadata": {}
        }
      ]
    },
    {
      "cell_type": "markdown",
      "source": [
        "#### TQDM Auto"
      ],
      "metadata": {
        "id": "qNFbma7VRY5t"
      }
    },
    {
      "cell_type": "code",
      "source": [
        "from tqdm.auto import tqdm"
      ],
      "metadata": {
        "id": "WviSZXiiRUSn"
      },
      "execution_count": 52,
      "outputs": []
    },
    {
      "cell_type": "markdown",
      "source": [
        "#### Help TQDM"
      ],
      "metadata": {
        "id": "M5l4JIYCRqAk"
      }
    },
    {
      "cell_type": "code",
      "source": [
        "help(tqdm)"
      ],
      "metadata": {
        "colab": {
          "base_uri": "https://localhost:8080/"
        },
        "id": "NeuabxeCRetB",
        "outputId": "35c76997-5ed0-4c39-8994-f273f290d2de"
      },
      "execution_count": 53,
      "outputs": [
        {
          "output_type": "stream",
          "name": "stdout",
          "text": [
            "Help on class tqdm in module tqdm.auto:\n",
            "\n",
            "class tqdm(tqdm.notebook.tqdm_notebook, tqdm.asyncio.tqdm_asyncio)\n",
            " |  tqdm(*_, **__)\n",
            " |  \n",
            " |  Method resolution order:\n",
            " |      tqdm\n",
            " |      tqdm.notebook.tqdm_notebook\n",
            " |      tqdm.asyncio.tqdm_asyncio\n",
            " |      tqdm.std.tqdm\n",
            " |      tqdm.utils.Comparable\n",
            " |      builtins.object\n",
            " |  \n",
            " |  Methods inherited from tqdm.notebook.tqdm_notebook:\n",
            " |  \n",
            " |  __init__(self, *args, **kwargs)\n",
            " |      Supports the usual `tqdm.tqdm` parameters as well as those listed below.\n",
            " |      \n",
            " |      Parameters\n",
            " |      ----------\n",
            " |      display  : Whether to call `display(self.container)` immediately\n",
            " |          [default: True].\n",
            " |  \n",
            " |  __iter__(self)\n",
            " |      Backward-compatibility to use: for x in tqdm(iterable)\n",
            " |  \n",
            " |  clear(self, *_, **__)\n",
            " |      Clear current bar display.\n",
            " |  \n",
            " |  close(self)\n",
            " |      Cleanup and (if leave=False) close the progressbar.\n",
            " |  \n",
            " |  display(self, msg=None, pos=None, close=False, bar_style=None, check_delay=True)\n",
            " |      Use `self.sp` to display `msg` in the specified `pos`.\n",
            " |      \n",
            " |      Consider overloading this function when inheriting to use e.g.:\n",
            " |      `self.some_frontend(**self.format_dict)` instead of `self.sp`.\n",
            " |      \n",
            " |      Parameters\n",
            " |      ----------\n",
            " |      msg  : str, optional. What to display (default: `repr(self)`).\n",
            " |      pos  : int, optional. Position to `moveto`\n",
            " |        (default: `abs(self.pos)`).\n",
            " |  \n",
            " |  reset(self, total=None)\n",
            " |      Resets to 0 iterations for repeated use.\n",
            " |      \n",
            " |      Consider combining with `leave=True`.\n",
            " |      \n",
            " |      Parameters\n",
            " |      ----------\n",
            " |      total  : int or float, optional. Total to use for the new bar.\n",
            " |  \n",
            " |  update(self, n=1)\n",
            " |      Manually update the progress bar, useful for streams\n",
            " |      such as reading files.\n",
            " |      E.g.:\n",
            " |      >>> t = tqdm(total=filesize) # Initialise\n",
            " |      >>> for current_buffer in stream:\n",
            " |      ...    ...\n",
            " |      ...    t.update(len(current_buffer))\n",
            " |      >>> t.close()\n",
            " |      The last line is highly recommended, but possibly not necessary if\n",
            " |      `t.update()` will be called in such a way that `filesize` will be\n",
            " |      exactly reached and printed.\n",
            " |      \n",
            " |      Parameters\n",
            " |      ----------\n",
            " |      n  : int or float, optional\n",
            " |          Increment to add to the internal counter of iterations\n",
            " |          [default: 1]. If using float, consider specifying `{n:.3f}`\n",
            " |          or similar in `bar_format`, or specifying `unit_scale`.\n",
            " |      \n",
            " |      Returns\n",
            " |      -------\n",
            " |      out  : bool or None\n",
            " |          True if a `display()` was triggered.\n",
            " |  \n",
            " |  ----------------------------------------------------------------------\n",
            " |  Static methods inherited from tqdm.notebook.tqdm_notebook:\n",
            " |  \n",
            " |  status_printer(_, total=None, desc=None, ncols=None)\n",
            " |      Manage the printing of an IPython/Jupyter Notebook progress bar widget.\n",
            " |  \n",
            " |  ----------------------------------------------------------------------\n",
            " |  Data descriptors inherited from tqdm.notebook.tqdm_notebook:\n",
            " |  \n",
            " |  colour\n",
            " |  \n",
            " |  ----------------------------------------------------------------------\n",
            " |  Methods inherited from tqdm.asyncio.tqdm_asyncio:\n",
            " |  \n",
            " |  __aiter__(self)\n",
            " |  \n",
            " |  async __anext__(self)\n",
            " |  \n",
            " |  send(self, *args, **kwargs)\n",
            " |  \n",
            " |  ----------------------------------------------------------------------\n",
            " |  Class methods inherited from tqdm.asyncio.tqdm_asyncio:\n",
            " |  \n",
            " |  as_completed(fs, *, loop=None, timeout=None, total=None, **tqdm_kwargs) from builtins.type\n",
            " |      Wrapper for `asyncio.as_completed`.\n",
            " |  \n",
            " |  async gather(*fs, loop=None, timeout=None, total=None, **tqdm_kwargs) from builtins.type\n",
            " |      Wrapper for `asyncio.gather`.\n",
            " |  \n",
            " |  ----------------------------------------------------------------------\n",
            " |  Methods inherited from tqdm.std.tqdm:\n",
            " |  \n",
            " |  __bool__(self)\n",
            " |  \n",
            " |  __contains__(self, item)\n",
            " |  \n",
            " |  __del__(self)\n",
            " |  \n",
            " |  __enter__(self)\n",
            " |  \n",
            " |  __exit__(self, exc_type, exc_value, traceback)\n",
            " |  \n",
            " |  __hash__(self)\n",
            " |      Return hash(self).\n",
            " |  \n",
            " |  __len__(self)\n",
            " |  \n",
            " |  __reversed__(self)\n",
            " |  \n",
            " |  __str__(self)\n",
            " |      Return str(self).\n",
            " |  \n",
            " |  moveto(self, n)\n",
            " |  \n",
            " |  refresh(self, nolock=False, lock_args=None)\n",
            " |      Force refresh the display of this bar.\n",
            " |      \n",
            " |      Parameters\n",
            " |      ----------\n",
            " |      nolock  : bool, optional\n",
            " |          If `True`, does not lock.\n",
            " |          If [default: `False`]: calls `acquire()` on internal lock.\n",
            " |      lock_args  : tuple, optional\n",
            " |          Passed to internal lock's `acquire()`.\n",
            " |          If specified, will only `display()` if `acquire()` returns `True`.\n",
            " |  \n",
            " |  set_description(self, desc=None, refresh=True)\n",
            " |      Set/modify description of the progress bar.\n",
            " |      \n",
            " |      Parameters\n",
            " |      ----------\n",
            " |      desc  : str, optional\n",
            " |      refresh  : bool, optional\n",
            " |          Forces refresh [default: True].\n",
            " |  \n",
            " |  set_description_str(self, desc=None, refresh=True)\n",
            " |      Set/modify description without ': ' appended.\n",
            " |  \n",
            " |  set_postfix(self, ordered_dict=None, refresh=True, **kwargs)\n",
            " |      Set/modify postfix (additional stats)\n",
            " |      with automatic formatting based on datatype.\n",
            " |      \n",
            " |      Parameters\n",
            " |      ----------\n",
            " |      ordered_dict  : dict or OrderedDict, optional\n",
            " |      refresh  : bool, optional\n",
            " |          Forces refresh [default: True].\n",
            " |      kwargs  : dict, optional\n",
            " |  \n",
            " |  set_postfix_str(self, s='', refresh=True)\n",
            " |      Postfix without dictionary expansion, similar to prefix handling.\n",
            " |  \n",
            " |  unpause(self)\n",
            " |      Restart tqdm timer from last print time.\n",
            " |  \n",
            " |  ----------------------------------------------------------------------\n",
            " |  Class methods inherited from tqdm.std.tqdm:\n",
            " |  \n",
            " |  external_write_mode(file=None, nolock=False) from builtins.type\n",
            " |      Disable tqdm within context and refresh tqdm when exits.\n",
            " |      Useful when writing to standard output stream\n",
            " |  \n",
            " |  get_lock() from builtins.type\n",
            " |      Get the global lock. Construct it if it does not exist.\n",
            " |  \n",
            " |  pandas(**tqdm_kwargs) from builtins.type\n",
            " |      Registers the current `tqdm` class with\n",
            " |          pandas.core.\n",
            " |          ( frame.DataFrame\n",
            " |          | series.Series\n",
            " |          | groupby.(generic.)DataFrameGroupBy\n",
            " |          | groupby.(generic.)SeriesGroupBy\n",
            " |          ).progress_apply\n",
            " |      \n",
            " |      A new instance will be created every time `progress_apply` is called,\n",
            " |      and each instance will automatically `close()` upon completion.\n",
            " |      \n",
            " |      Parameters\n",
            " |      ----------\n",
            " |      tqdm_kwargs  : arguments for the tqdm instance\n",
            " |      \n",
            " |      Examples\n",
            " |      --------\n",
            " |      >>> import pandas as pd\n",
            " |      >>> import numpy as np\n",
            " |      >>> from tqdm import tqdm\n",
            " |      >>> from tqdm.gui import tqdm as tqdm_gui\n",
            " |      >>>\n",
            " |      >>> df = pd.DataFrame(np.random.randint(0, 100, (100000, 6)))\n",
            " |      >>> tqdm.pandas(ncols=50)  # can use tqdm_gui, optional kwargs, etc\n",
            " |      >>> # Now you can use `progress_apply` instead of `apply`\n",
            " |      >>> df.groupby(0).progress_apply(lambda x: x**2)\n",
            " |      \n",
            " |      References\n",
            " |      ----------\n",
            " |      <https://stackoverflow.com/questions/18603270/        progress-indicator-during-pandas-operations-python>\n",
            " |  \n",
            " |  set_lock(lock) from builtins.type\n",
            " |      Set the global lock.\n",
            " |  \n",
            " |  wrapattr(stream, method, total=None, bytes=True, **tqdm_kwargs) from builtins.type\n",
            " |      stream  : file-like object.\n",
            " |      method  : str, \"read\" or \"write\". The result of `read()` and\n",
            " |          the first argument of `write()` should have a `len()`.\n",
            " |      \n",
            " |      >>> with tqdm.wrapattr(file_obj, \"read\", total=file_obj.size) as fobj:\n",
            " |      ...     while True:\n",
            " |      ...         chunk = fobj.read(chunk_size)\n",
            " |      ...         if not chunk:\n",
            " |      ...             break\n",
            " |  \n",
            " |  write(s, file=None, end='\\n', nolock=False) from builtins.type\n",
            " |      Print a message via tqdm (without overlap with bars).\n",
            " |  \n",
            " |  ----------------------------------------------------------------------\n",
            " |  Static methods inherited from tqdm.std.tqdm:\n",
            " |  \n",
            " |  __new__(cls, *_, **__)\n",
            " |      Create and return a new object.  See help(type) for accurate signature.\n",
            " |  \n",
            " |  format_interval(t)\n",
            " |      Formats a number of seconds as a clock time, [H:]MM:SS\n",
            " |      \n",
            " |      Parameters\n",
            " |      ----------\n",
            " |      t  : int\n",
            " |          Number of seconds.\n",
            " |      \n",
            " |      Returns\n",
            " |      -------\n",
            " |      out  : str\n",
            " |          [H:]MM:SS\n",
            " |  \n",
            " |  format_meter(n, total, elapsed, ncols=None, prefix='', ascii=False, unit='it', unit_scale=False, rate=None, bar_format=None, postfix=None, unit_divisor=1000, initial=0, colour=None, **extra_kwargs)\n",
            " |      Return a string-based progress bar given some parameters\n",
            " |      \n",
            " |      Parameters\n",
            " |      ----------\n",
            " |      n  : int or float\n",
            " |          Number of finished iterations.\n",
            " |      total  : int or float\n",
            " |          The expected total number of iterations. If meaningless (None),\n",
            " |          only basic progress statistics are displayed (no ETA).\n",
            " |      elapsed  : float\n",
            " |          Number of seconds passed since start.\n",
            " |      ncols  : int, optional\n",
            " |          The width of the entire output message. If specified,\n",
            " |          dynamically resizes `{bar}` to stay within this bound\n",
            " |          [default: None]. If `0`, will not print any bar (only stats).\n",
            " |          The fallback is `{bar:10}`.\n",
            " |      prefix  : str, optional\n",
            " |          Prefix message (included in total width) [default: ''].\n",
            " |          Use as {desc} in bar_format string.\n",
            " |      ascii  : bool, optional or str, optional\n",
            " |          If not set, use unicode (smooth blocks) to fill the meter\n",
            " |          [default: False]. The fallback is to use ASCII characters\n",
            " |          \" 123456789#\".\n",
            " |      unit  : str, optional\n",
            " |          The iteration unit [default: 'it'].\n",
            " |      unit_scale  : bool or int or float, optional\n",
            " |          If 1 or True, the number of iterations will be printed with an\n",
            " |          appropriate SI metric prefix (k = 10^3, M = 10^6, etc.)\n",
            " |          [default: False]. If any other non-zero number, will scale\n",
            " |          `total` and `n`.\n",
            " |      rate  : float, optional\n",
            " |          Manual override for iteration rate.\n",
            " |          If [default: None], uses n/elapsed.\n",
            " |      bar_format  : str, optional\n",
            " |          Specify a custom bar string formatting. May impact performance.\n",
            " |          [default: '{l_bar}{bar}{r_bar}'], where\n",
            " |          l_bar='{desc}: {percentage:3.0f}%|' and\n",
            " |          r_bar='| {n_fmt}/{total_fmt} [{elapsed}<{remaining}, '\n",
            " |            '{rate_fmt}{postfix}]'\n",
            " |          Possible vars: l_bar, bar, r_bar, n, n_fmt, total, total_fmt,\n",
            " |            percentage, elapsed, elapsed_s, ncols, nrows, desc, unit,\n",
            " |            rate, rate_fmt, rate_noinv, rate_noinv_fmt,\n",
            " |            rate_inv, rate_inv_fmt, postfix, unit_divisor,\n",
            " |            remaining, remaining_s, eta.\n",
            " |          Note that a trailing \": \" is automatically removed after {desc}\n",
            " |          if the latter is empty.\n",
            " |      postfix  : *, optional\n",
            " |          Similar to `prefix`, but placed at the end\n",
            " |          (e.g. for additional stats).\n",
            " |          Note: postfix is usually a string (not a dict) for this method,\n",
            " |          and will if possible be set to postfix = ', ' + postfix.\n",
            " |          However other types are supported (#382).\n",
            " |      unit_divisor  : float, optional\n",
            " |          [default: 1000], ignored unless `unit_scale` is True.\n",
            " |      initial  : int or float, optional\n",
            " |          The initial counter value [default: 0].\n",
            " |      colour  : str, optional\n",
            " |          Bar colour (e.g. 'green', '#00ff00').\n",
            " |      \n",
            " |      Returns\n",
            " |      -------\n",
            " |      out  : Formatted meter and stats, ready to display.\n",
            " |  \n",
            " |  format_num(n)\n",
            " |      Intelligent scientific notation (.3g).\n",
            " |      \n",
            " |      Parameters\n",
            " |      ----------\n",
            " |      n  : int or float or Numeric\n",
            " |          A Number.\n",
            " |      \n",
            " |      Returns\n",
            " |      -------\n",
            " |      out  : str\n",
            " |          Formatted number.\n",
            " |  \n",
            " |  format_sizeof(num, suffix='', divisor=1000)\n",
            " |      Formats a number (greater than unity) with SI Order of Magnitude\n",
            " |      prefixes.\n",
            " |      \n",
            " |      Parameters\n",
            " |      ----------\n",
            " |      num  : float\n",
            " |          Number ( >= 1) to format.\n",
            " |      suffix  : str, optional\n",
            " |          Post-postfix [default: ''].\n",
            " |      divisor  : float, optional\n",
            " |          Divisor between prefixes [default: 1000].\n",
            " |      \n",
            " |      Returns\n",
            " |      -------\n",
            " |      out  : str\n",
            " |          Number with Order of Magnitude SI unit postfix.\n",
            " |  \n",
            " |  ----------------------------------------------------------------------\n",
            " |  Readonly properties inherited from tqdm.std.tqdm:\n",
            " |  \n",
            " |  format_dict\n",
            " |      Public API for read-only member access.\n",
            " |  \n",
            " |  ----------------------------------------------------------------------\n",
            " |  Data and other attributes inherited from tqdm.std.tqdm:\n",
            " |  \n",
            " |  monitor = <TMonitor(Thread-10, started daemon 132583593588288)>\n",
            " |  \n",
            " |  monitor_interval = 10\n",
            " |  \n",
            " |  ----------------------------------------------------------------------\n",
            " |  Methods inherited from tqdm.utils.Comparable:\n",
            " |  \n",
            " |  __eq__(self, other)\n",
            " |      Return self==value.\n",
            " |  \n",
            " |  __ge__(self, other)\n",
            " |      Return self>=value.\n",
            " |  \n",
            " |  __gt__(self, other)\n",
            " |      Return self>value.\n",
            " |  \n",
            " |  __le__(self, other)\n",
            " |      Return self<=value.\n",
            " |  \n",
            " |  __lt__(self, other)\n",
            " |      Return self<value.\n",
            " |  \n",
            " |  __ne__(self, other)\n",
            " |      Return self!=value.\n",
            " |  \n",
            " |  ----------------------------------------------------------------------\n",
            " |  Data descriptors inherited from tqdm.utils.Comparable:\n",
            " |  \n",
            " |  __dict__\n",
            " |      dictionary for instance variables (if defined)\n",
            " |  \n",
            " |  __weakref__\n",
            " |      list of weak references to the object (if defined)\n",
            "\n"
          ]
        }
      ]
    },
    {
      "cell_type": "code",
      "source": [],
      "metadata": {
        "id": "xbgwlligRlIP"
      },
      "execution_count": null,
      "outputs": []
    }
  ]
}