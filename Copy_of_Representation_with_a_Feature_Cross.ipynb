{
  "cells": [
    {
      "cell_type": "markdown",
      "metadata": {
        "id": "view-in-github",
        "colab_type": "text"
      },
      "source": [
        "<a href=\"https://colab.research.google.com/github/apps1990/Apps/blob/master/Copy_of_Representation_with_a_Feature_Cross.ipynb\" target=\"_parent\"><img src=\"https://colab.research.google.com/assets/colab-badge.svg\" alt=\"Open In Colab\"/></a>"
      ]
    },
    {
      "cell_type": "code",
      "execution_count": 1,
      "metadata": {
        "cellView": "form",
        "id": "wDlWLbfkJtvu"
      },
      "outputs": [],
      "source": [
        "#@title Copyright 2020 Google LLC. Double-click for license information.\n",
        "# Licensed under the Apache License, Version 2.0 (the \"License\");\n",
        "# you may not use this file except in compliance with the License.\n",
        "# You may obtain a copy of the License at\n",
        "#\n",
        "# https://www.apache.org/licenses/LICENSE-2.0\n",
        "#\n",
        "# Unless required by applicable law or agreed to in writing, software\n",
        "# distributed under the License is distributed on an \"AS IS\" BASIS,\n",
        "# WITHOUT WARRANTIES OR CONDITIONS OF ANY KIND, either express or implied.\n",
        "# See the License for the specific language governing permissions and\n",
        "# limitations under the License."
      ]
    },
    {
      "cell_type": "markdown",
      "metadata": {
        "id": "T4r2z30vJSbA"
      },
      "source": [
        "# Colabs\n",
        "\n",
        "Machine Learning Crash Course uses Colaboratories (Colabs) for all programming exercises. Colab is Google's implementation of [Jupyter Notebook](https://jupyter.org/). For more information about Colabs and how to use them, go to [Welcome to Colaboratory](https://research.google.com/colaboratory)."
      ]
    },
    {
      "cell_type": "markdown",
      "metadata": {
        "id": "TL5y5fY9Jy_x"
      },
      "source": [
        "# Representation with a Feature Cross\n",
        "\n",
        "In this exercise, you'll experiment with different ways to represent features."
      ]
    },
    {
      "cell_type": "markdown",
      "metadata": {
        "id": "RXWoPIezkzgI"
      },
      "source": [
        "## Learning Objectives:\n",
        "\n",
        "After doing this Colab, you'll know how to:\n",
        "\n",
        "  * Use TensorFlow [preprocessing layers](https://www.tensorflow.org/guide/keras/preprocessing_layers) to represent features in different ways.\n",
        "  * Represent features as [bins](https://developers.google.com/machine-learning/glossary/#bucketing).\n",
        "  * Cross bins to create a [feature cross](https://developers.google.com/machine-learning/glossary/#feature_cross)."
      ]
    },
    {
      "cell_type": "markdown",
      "metadata": {
        "id": "lH_g3Hsfkzzb"
      },
      "source": [
        "## The Dataset\n",
        "  \n",
        "Like several of the previous Colabs, this exercise uses the [California Housing Dataset](https://developers.google.com/machine-learning/crash-course/california-housing-data-description)."
      ]
    },
    {
      "cell_type": "markdown",
      "metadata": {
        "id": "5iuw6-JOGf7I"
      },
      "source": [
        "## Call the import statements\n",
        "\n",
        "The following code imports the necessary code to run the code in the rest of this Colaboratory."
      ]
    },
    {
      "cell_type": "code",
      "execution_count": 2,
      "metadata": {
        "id": "9n9_cTveKmse",
        "colab": {
          "base_uri": "https://localhost:8080/"
        },
        "outputId": "5f85eec1-40af-41a1-f91d-3b2a01e4feb6"
      },
      "outputs": [
        {
          "output_type": "stream",
          "name": "stdout",
          "text": [
            "Imported the modules.\n"
          ]
        }
      ],
      "source": [
        "#@title Load the imports\n",
        "\n",
        "import numpy as np\n",
        "import pandas as pd\n",
        "import tensorflow as tf\n",
        "from tensorflow.keras import layers\n",
        "\n",
        "from matplotlib import pyplot as plt\n",
        "\n",
        "# The following lines adjust the granularity of reporting.\n",
        "pd.options.display.max_rows = 10\n",
        "pd.options.display.float_format = \"{:.1f}\".format\n",
        "\n",
        "tf.keras.backend.set_floatx('float32')\n",
        "\n",
        "print(\"Imported the modules.\")"
      ]
    },
    {
      "cell_type": "markdown",
      "metadata": {
        "id": "X_TaJhU4KcuY"
      },
      "source": [
        "## Load, scale, and shuffle the examples\n",
        "\n",
        "The following code cell loads the separate .csv files and creates the following two pandas DataFrames:\n",
        "\n",
        "* `train_df`, which contains the training set\n",
        "* `test_df`, which contains the test set\n",
        "\n",
        "The code cell then scales the `median_house_value` to a more human-friendly range and then shuffles the examples."
      ]
    },
    {
      "cell_type": "code",
      "execution_count": 3,
      "metadata": {
        "id": "JZlvdpyYKx7V"
      },
      "outputs": [],
      "source": [
        "# Load the dataset\n",
        "train_df = pd.read_csv(\"https://download.mlcc.google.com/mledu-datasets/california_housing_train.csv\")\n",
        "test_df = pd.read_csv(\"https://download.mlcc.google.com/mledu-datasets/california_housing_test.csv\")\n",
        "\n",
        "# Scale the labels\n",
        "scale_factor = 1000.0\n",
        "# Scale the training set's label.\n",
        "train_df[\"median_house_value\"] /= scale_factor\n",
        "\n",
        "# Scale the test set's label\n",
        "test_df[\"median_house_value\"] /= scale_factor\n",
        "\n",
        "# Shuffle the examples\n",
        "train_df = train_df.reindex(np.random.permutation(train_df.index))"
      ]
    },
    {
      "cell_type": "markdown",
      "metadata": {
        "id": "8kir8UTUXSV8"
      },
      "source": [
        "## Represent latitude and longitude as floating-point values\n",
        "\n",
        "Previous Colabs trained on only a single feature or a single synthetic feature. By contrast, this exercise trains on two features using **Input layers**.\n",
        "\n",
        "A neighborhood's location is typically the most important feature in determining a house's value. The California Housing dataset provides two features, `latitude` and `longitude` that identify each neighborhood's location.\n",
        "\n",
        "The following code cell defines two [`tf.keras.Input`](https://keras.io/api/layers/core_layers/input/) layers, one to represent `latitude` and another one to represent `longitude`, both as floating-point values.\n",
        "\n",
        "This code cell specifies the features that you'll ultimately train the model on and how each of those features will be represented.\n"
      ]
    },
    {
      "cell_type": "code",
      "execution_count": 4,
      "metadata": {
        "id": "3tmmZIDw4JEC"
      },
      "outputs": [],
      "source": [
        "# Keras Input tensors of float values.\n",
        "inputs = {\n",
        "    'latitude':\n",
        "        tf.keras.layers.Input(shape=(1,), dtype=tf.float32,\n",
        "                              name='latitude'),\n",
        "    'longitude':\n",
        "        tf.keras.layers.Input(shape=(1,), dtype=tf.float32,\n",
        "                              name='longitude')\n",
        "}"
      ]
    },
    {
      "cell_type": "markdown",
      "metadata": {
        "id": "3014ezH3C7jT"
      },
      "source": [
        "## Define functions that create and train a model, and a plotting function\n",
        "\n",
        "The following code defines three functions:\n",
        "\n",
        "  * `create_model`, which tells TensorFlow to build a linear regression model based on the inputs and outputs provided.\n",
        "  * `train_model`, which will ultimately train the model from training set examples.\n",
        "  * `plot_the_loss_curve`, which generates a loss curve."
      ]
    },
    {
      "cell_type": "code",
      "execution_count": 5,
      "metadata": {
        "id": "pedD5GhlDC-y",
        "colab": {
          "base_uri": "https://localhost:8080/"
        },
        "outputId": "a3c1be5b-6ac5-4dba-ffc6-e7f16a6dfdae"
      },
      "outputs": [
        {
          "output_type": "stream",
          "name": "stdout",
          "text": [
            "Defined the create_model, train_model, and plot_the_loss_curve functions.\n"
          ]
        }
      ],
      "source": [
        "#@title Define functions to create and train a model, and a plotting function\n",
        "def create_model(my_inputs, my_outputs, my_learning_rate):\n",
        "\n",
        "  model = tf.keras.Model(inputs=my_inputs, outputs=my_outputs)\n",
        "\n",
        "  # Construct the layers into a model that TensorFlow can execute.\n",
        "  model.compile(optimizer=tf.keras.optimizers.experimental.RMSprop(\n",
        "      learning_rate=my_learning_rate),\n",
        "      loss=\"mean_squared_error\",\n",
        "      metrics=[tf.keras.metrics.RootMeanSquaredError()])\n",
        "\n",
        "  return model\n",
        "\n",
        "\n",
        "def train_model(model, dataset, epochs, batch_size, label_name):\n",
        "  \"\"\"Feed a dataset into the model in order to train it.\"\"\"\n",
        "\n",
        "  features = {name:np.array(value) for name, value in dataset.items()}\n",
        "  label = np.array(features.pop(label_name))\n",
        "  history = model.fit(x=features, y=label, batch_size=batch_size,\n",
        "                      epochs=epochs, shuffle=True)\n",
        "\n",
        "  # The list of epochs is stored separately from the rest of history.\n",
        "  epochs = history.epoch\n",
        "\n",
        "  # Isolate the mean absolute error for each epoch.\n",
        "  hist = pd.DataFrame(history.history)\n",
        "  rmse = hist[\"root_mean_squared_error\"]\n",
        "\n",
        "  return epochs, rmse\n",
        "\n",
        "\n",
        "def plot_the_loss_curve(epochs, rmse):\n",
        "  \"\"\"Plot a curve of loss vs. epoch.\"\"\"\n",
        "\n",
        "  plt.figure()\n",
        "  plt.xlabel(\"Epoch\")\n",
        "  plt.ylabel(\"Root Mean Squared Error\")\n",
        "\n",
        "  plt.plot(epochs, rmse, label=\"Loss\")\n",
        "  plt.legend()\n",
        "  plt.ylim([rmse.min()*0.94, rmse.max()* 1.05])\n",
        "  plt.show()\n",
        "\n",
        "print(\"Defined the create_model, train_model, and plot_the_loss_curve functions.\")"
      ]
    },
    {
      "cell_type": "markdown",
      "metadata": {
        "id": "D-IXYVfvM4gD"
      },
      "source": [
        "## Train the model with floating-point representations\n",
        "\n",
        "The following code cell calls the functions you just created to train, plot, and evaluate a model."
      ]
    },
    {
      "cell_type": "code",
      "execution_count": 6,
      "metadata": {
        "cellView": "both",
        "id": "nj3v5EKQFY8s",
        "colab": {
          "base_uri": "https://localhost:8080/",
          "height": 1000
        },
        "outputId": "660ec43d-10b9-4630-fa6e-a93e2906bbf8"
      },
      "outputs": [
        {
          "output_type": "stream",
          "name": "stdout",
          "text": [
            "Epoch 1/30\n"
          ]
        },
        {
          "output_type": "stream",
          "name": "stderr",
          "text": [
            "/usr/local/lib/python3.10/dist-packages/keras/src/engine/functional.py:639: UserWarning: Input dict contained keys ['housing_median_age', 'total_rooms', 'total_bedrooms', 'population', 'households', 'median_income'] which did not match any model input. They will be ignored by the model.\n",
            "  inputs = self._flatten_to_reference_inputs(inputs)\n"
          ]
        },
        {
          "output_type": "stream",
          "name": "stdout",
          "text": [
            "170/170 [==============================] - 7s 5ms/step - loss: 14642.3438 - root_mean_squared_error: 121.0056\n",
            "Epoch 2/30\n",
            "170/170 [==============================] - 1s 4ms/step - loss: 13633.6416 - root_mean_squared_error: 116.7632\n",
            "Epoch 3/30\n",
            "170/170 [==============================] - 1s 4ms/step - loss: 13576.9170 - root_mean_squared_error: 116.5200\n",
            "Epoch 4/30\n",
            "170/170 [==============================] - 1s 5ms/step - loss: 13523.1240 - root_mean_squared_error: 116.2890\n",
            "Epoch 5/30\n",
            "170/170 [==============================] - 1s 5ms/step - loss: 13465.8271 - root_mean_squared_error: 116.0424\n",
            "Epoch 6/30\n",
            "170/170 [==============================] - 1s 5ms/step - loss: 13412.3154 - root_mean_squared_error: 115.8116\n",
            "Epoch 7/30\n",
            "170/170 [==============================] - 1s 5ms/step - loss: 13368.8408 - root_mean_squared_error: 115.6237\n",
            "Epoch 8/30\n",
            "170/170 [==============================] - 1s 4ms/step - loss: 13342.5195 - root_mean_squared_error: 115.5098\n",
            "Epoch 9/30\n",
            "170/170 [==============================] - 1s 3ms/step - loss: 13313.9922 - root_mean_squared_error: 115.3863\n",
            "Epoch 10/30\n",
            "170/170 [==============================] - 1s 4ms/step - loss: 13269.0527 - root_mean_squared_error: 115.1914\n",
            "Epoch 11/30\n",
            "170/170 [==============================] - 1s 4ms/step - loss: 13213.6504 - root_mean_squared_error: 114.9506\n",
            "Epoch 12/30\n",
            "170/170 [==============================] - 1s 3ms/step - loss: 13200.0000 - root_mean_squared_error: 114.8913\n",
            "Epoch 13/30\n",
            "170/170 [==============================] - 1s 4ms/step - loss: 13178.5273 - root_mean_squared_error: 114.7978\n",
            "Epoch 14/30\n",
            "170/170 [==============================] - 1s 4ms/step - loss: 13160.6787 - root_mean_squared_error: 114.7200\n",
            "Epoch 15/30\n",
            "170/170 [==============================] - 1s 4ms/step - loss: 13119.8008 - root_mean_squared_error: 114.5417\n",
            "Epoch 16/30\n",
            "170/170 [==============================] - 1s 7ms/step - loss: 13081.0156 - root_mean_squared_error: 114.3723\n",
            "Epoch 17/30\n",
            "170/170 [==============================] - 1s 7ms/step - loss: 13072.3525 - root_mean_squared_error: 114.3344\n",
            "Epoch 18/30\n",
            "170/170 [==============================] - 1s 6ms/step - loss: 13050.6553 - root_mean_squared_error: 114.2395\n",
            "Epoch 19/30\n",
            "170/170 [==============================] - 1s 5ms/step - loss: 13019.0273 - root_mean_squared_error: 114.1010\n",
            "Epoch 20/30\n",
            "170/170 [==============================] - 1s 5ms/step - loss: 13009.3926 - root_mean_squared_error: 114.0587\n",
            "Epoch 21/30\n",
            "170/170 [==============================] - 1s 6ms/step - loss: 12984.5264 - root_mean_squared_error: 113.9497\n",
            "Epoch 22/30\n",
            "170/170 [==============================] - 1s 4ms/step - loss: 12970.4863 - root_mean_squared_error: 113.8880\n",
            "Epoch 23/30\n",
            "170/170 [==============================] - 1s 4ms/step - loss: 12937.3711 - root_mean_squared_error: 113.7426\n",
            "Epoch 24/30\n",
            "170/170 [==============================] - 1s 5ms/step - loss: 12938.0010 - root_mean_squared_error: 113.7453\n",
            "Epoch 25/30\n",
            "170/170 [==============================] - 1s 5ms/step - loss: 12923.2705 - root_mean_squared_error: 113.6806\n",
            "Epoch 26/30\n",
            "170/170 [==============================] - 1s 5ms/step - loss: 12910.3545 - root_mean_squared_error: 113.6237\n",
            "Epoch 27/30\n",
            "170/170 [==============================] - 1s 3ms/step - loss: 12909.1855 - root_mean_squared_error: 113.6186\n",
            "Epoch 28/30\n",
            "170/170 [==============================] - 0s 2ms/step - loss: 12880.5938 - root_mean_squared_error: 113.4927\n",
            "Epoch 29/30\n",
            "170/170 [==============================] - 0s 2ms/step - loss: 12871.5527 - root_mean_squared_error: 113.4529\n",
            "Epoch 30/30\n",
            "170/170 [==============================] - 0s 2ms/step - loss: 12857.1084 - root_mean_squared_error: 113.3892\n",
            "Model: \"model\"\n",
            "__________________________________________________________________________________________________\n",
            " Layer (type)                Output Shape                 Param #   Connected to                  \n",
            "==================================================================================================\n",
            " latitude (InputLayer)       [(None, 1)]                  0         []                            \n",
            "                                                                                                  \n",
            " longitude (InputLayer)      [(None, 1)]                  0         []                            \n",
            "                                                                                                  \n",
            " concatenate (Concatenate)   (None, 2)                    0         ['latitude[0][0]',            \n",
            "                                                                     'longitude[0][0]']           \n",
            "                                                                                                  \n",
            " dense_layer (Dense)         (None, 1)                    3         ['concatenate[0][0]']         \n",
            "                                                                                                  \n",
            "==================================================================================================\n",
            "Total params: 3 (12.00 Byte)\n",
            "Trainable params: 3 (12.00 Byte)\n",
            "Non-trainable params: 0 (0.00 Byte)\n",
            "__________________________________________________________________________________________________\n"
          ]
        },
        {
          "output_type": "display_data",
          "data": {
            "text/plain": [
              "<Figure size 640x480 with 1 Axes>"
            ],
            "image/png": "[encoded data removed]"
          },
          "metadata": {}
        },
        {
          "output_type": "stream",
          "name": "stdout",
          "text": [
            "\n",
            ": Evaluate the new model against the test set:\n",
            "30/30 [==============================] - 0s 2ms/step - loss: 12220.6172 - root_mean_squared_error: 110.5469\n"
          ]
        },
        {
          "output_type": "stream",
          "name": "stderr",
          "text": [
            "/usr/local/lib/python3.10/dist-packages/keras/src/engine/functional.py:639: UserWarning: Input dict contained keys ['housing_median_age', 'total_rooms', 'total_bedrooms', 'population', 'households', 'median_income'] which did not match any model input. They will be ignored by the model.\n",
            "  inputs = self._flatten_to_reference_inputs(inputs)\n"
          ]
        },
        {
          "output_type": "execute_result",
          "data": {
            "text/plain": [
              "[12220.6171875, 110.5468978881836]"
            ]
          },
          "metadata": {},
          "execution_count": 6
        }
      ],
      "source": [
        "# The following variables are the hyperparameters.\n",
        "learning_rate = 0.05\n",
        "epochs = 30\n",
        "batch_size = 100\n",
        "label_name = 'median_house_value'\n",
        "\n",
        "# The two Input layers are concatenated so they can be passed as a single\n",
        "# tensor to a Dense layer.\n",
        "preprocessing_layer = tf.keras.layers.Concatenate()(inputs.values())\n",
        "\n",
        "dense_output = layers.Dense(units=1, name='dense_layer')(preprocessing_layer)\n",
        "\n",
        "outputs = {\n",
        "  'dense_output': dense_output\n",
        "}\n",
        "\n",
        "# Create and compile the model's topography.\n",
        "my_model = create_model(inputs, outputs, learning_rate)\n",
        "\n",
        "# To view a PNG of this model's layers, uncomment the call to\n",
        "# `tf.keras.utils.plot_model` below. After running this code cell, click\n",
        "# the file folder on the left, then the `my_model.png` file.\n",
        "# tf.keras.utils.plot_model(my_model, \"my_model.png\", show_shapes=True)\n",
        "\n",
        "# Train the model on the training set.\n",
        "epochs, rmse = train_model(my_model, train_df, epochs, batch_size, label_name)\n",
        "\n",
        "# Print out the model summary.\n",
        "my_model.summary(expand_nested=True)\n",
        "\n",
        "plot_the_loss_curve(epochs, rmse)\n",
        "\n",
        "print(\"\\n: Evaluate the new model against the test set:\")\n",
        "test_features = {name:np.array(value) for name, value in test_df.items()}\n",
        "test_label = np.array(test_features.pop(label_name))\n",
        "my_model.evaluate(x=test_features, y=test_label, batch_size=batch_size)"
      ]
    },
    {
      "cell_type": "markdown",
      "metadata": {
        "id": "dbyWNS6T2fIT"
      },
      "source": [
        "## Task 1: Why aren't floating-point values a good way to represent latitude and longitude?\n",
        "\n",
        "Are floating-point values a good way to represent `latitude` and `longitude`?"
      ]
    },
    {
      "cell_type": "code",
      "execution_count": 7,
      "metadata": {
        "id": "VJLDCu5M2hXX"
      },
      "outputs": [],
      "source": [
        "#@title Double-click to view an answer to Task 1.\n",
        "\n",
        "# No. Representing latitude and longitude as\n",
        "# floating-point values does not have much\n",
        "# predictive power. For example, neighborhoods at\n",
        "# latitude 35 are not 36/35 more valuable\n",
        "# (or 35/36 less valuable) than houses at\n",
        "# latitude 36.\n",
        "\n",
        "# Representing `latitude` and `longitude` as\n",
        "# floating-point values provides almost no\n",
        "# predictive power. We're only using the raw values\n",
        "# to establish a baseline for future experiments\n",
        "# with better representations."
      ]
    },
    {
      "cell_type": "markdown",
      "metadata": {
        "id": "Na8TPoPYx-0k"
      },
      "source": [
        "## Represent latitude and longitude in buckets\n",
        "\n",
        "The following code cell represents latitude and longitude in buckets (bins). Each bin represents all the neighborhoods within a single degree. For example,\n",
        "neighborhoods at latitude 35.4 and 35.8 are in the same bucket, but neighborhoods in latitude 35.4 and 36.2 are in different buckets.\n",
        "\n",
        "The model will learn a separate weight for each bucket. For example, the model will learn one weight for all the neighborhoods in the \"35\" bin, a different weight for neighborhoods in the \"36\" bin, and so on. This representation will create approximately 20 buckets:\n",
        "\n",
        "  * 10 buckets for `latitude`.\n",
        "  * 10 buckets for `longitude`."
      ]
    },
    {
      "cell_type": "code",
      "execution_count": 8,
      "metadata": {
        "id": "WLTUFiaUyIpx",
        "colab": {
          "base_uri": "https://localhost:8080/"
        },
        "outputId": "02db65d7-e8a2-4094-dab0-44813e6c8f99"
      },
      "outputs": [
        {
          "output_type": "stream",
          "name": "stdout",
          "text": [
            "latitude boundaries: [32.0, 33.0, 34.0, 35.0, 36.0, 37.0, 38.0, 39.0, 40.0]\n",
            "longitude boundaries: [-124.0, -123.0, -122.0, -121.0, -120.0, -119.0, -118.0, -117.0, -116.0, -115.0]\n"
          ]
        }
      ],
      "source": [
        "resolution_in_degrees = 1.0\n",
        "\n",
        "# Create a list of numbers representing the bucket boundaries for latitude.\n",
        "latitude_boundaries = list(np.arange(int(min(train_df['latitude'])),\n",
        "                                     int(max(train_df['latitude'])),\n",
        "                                     resolution_in_degrees))\n",
        "print(\"latitude boundaries: \" + str(latitude_boundaries))\n",
        "\n",
        "# Create a Discretization layer to separate the latitude data into buckets.\n",
        "latitude = tf.keras.layers.Discretization(\n",
        "    bin_boundaries=latitude_boundaries,\n",
        "    name='discretization_latitude')(inputs.get('latitude'))\n",
        "\n",
        "# Number of categories is the length of latitude_boundaries plus one.\n",
        "latitude = tf.keras.layers.CategoryEncoding(\n",
        "    num_tokens=len(latitude_boundaries) + 1,\n",
        "    output_mode='one_hot',\n",
        "    name='category_encoding_latitude')(latitude)\n",
        "\n",
        "# Create a list of numbers representing the bucket boundaries for longitude.\n",
        "longitude_boundaries = list(np.arange(int(min(train_df['longitude'])),\n",
        "                                      int(max(train_df['longitude'])),\n",
        "                                      resolution_in_degrees))\n",
        "\n",
        "print(\"longitude boundaries: \" + str(longitude_boundaries))\n",
        "\n",
        "# Create a Discretization layer to separate the longitude data into buckets.\n",
        "longitude = tf.keras.layers.Discretization(\n",
        "    bin_boundaries=longitude_boundaries,\n",
        "    name='discretization_longitude')(inputs.get('longitude'))\n",
        "\n",
        "# Number of categories is the length of longitude_boundaries plus one.\n",
        "longitude = tf.keras.layers.CategoryEncoding(\n",
        "    num_tokens=len(longitude_boundaries) + 1,\n",
        "    output_mode='one_hot',\n",
        "    name='category_encoding_longitude')(longitude)\n",
        "\n",
        "# Concatenate latitude and longitude into a single tensor as input for the Dense layer.\n",
        "concatenate_layer = tf.keras.layers.Concatenate()([latitude, longitude])\n",
        "\n",
        "dense_output = layers.Dense(units=1, name='dense_layer')(concatenate_layer)\n",
        "\n",
        "# Define an output dictionary we'll send to the model constructor.\n",
        "outputs = {\n",
        "  'dense_output': dense_output\n",
        "}"
      ]
    },
    {
      "cell_type": "markdown",
      "metadata": {
        "id": "aZsFzoPQ4pFm"
      },
      "source": [
        "## Train the model with bucket representations\n",
        "\n",
        "Run the following code cell to train the model with bucket representations rather than floating-point representations:"
      ]
    },
    {
      "cell_type": "code",
      "execution_count": 9,
      "metadata": {
        "id": "UnDrghxBzLvD",
        "colab": {
          "base_uri": "https://localhost:8080/",
          "height": 1000
        },
        "outputId": "e1e0b1d5-0c1b-49c3-8f7d-18f119153954"
      },
      "outputs": [
        {
          "output_type": "stream",
          "name": "stdout",
          "text": [
            "Epoch 1/35\n",
            "170/170 [==============================] - 2s 5ms/step - loss: 51918.5977 - root_mean_squared_error: 227.8565\n",
            "Epoch 2/35\n",
            "170/170 [==============================] - 1s 5ms/step - loss: 44543.9766 - root_mean_squared_error: 211.0544\n",
            "Epoch 3/35\n",
            "170/170 [==============================] - 1s 4ms/step - loss: 37965.4609 - root_mean_squared_error: 194.8473\n",
            "Epoch 4/35\n",
            "170/170 [==============================] - 1s 3ms/step - loss: 32175.6465 - root_mean_squared_error: 179.3757\n",
            "Epoch 5/35\n",
            "170/170 [==============================] - 1s 3ms/step - loss: 27171.1680 - root_mean_squared_error: 164.8368\n",
            "Epoch 6/35\n",
            "170/170 [==============================] - 1s 3ms/step - loss: 22945.1348 - root_mean_squared_error: 151.4765\n",
            "Epoch 7/35\n",
            "170/170 [==============================] - 1s 3ms/step - loss: 19430.3125 - root_mean_squared_error: 139.3927\n",
            "Epoch 8/35\n",
            "170/170 [==============================] - 1s 3ms/step - loss: 16639.4590 - root_mean_squared_error: 128.9940\n",
            "Epoch 9/35\n",
            "170/170 [==============================] - 1s 3ms/step - loss: 14496.3818 - root_mean_squared_error: 120.4009\n",
            "Epoch 10/35\n",
            "170/170 [==============================] - 1s 3ms/step - loss: 12950.9297 - root_mean_squared_error: 113.8021\n",
            "Epoch 11/35\n",
            "170/170 [==============================] - 1s 3ms/step - loss: 11923.8652 - root_mean_squared_error: 109.1964\n",
            "Epoch 12/35\n",
            "170/170 [==============================] - 1s 3ms/step - loss: 11326.0498 - root_mean_squared_error: 106.4239\n",
            "Epoch 13/35\n",
            "170/170 [==============================] - 1s 3ms/step - loss: 10987.6758 - root_mean_squared_error: 104.8221\n",
            "Epoch 14/35\n",
            "170/170 [==============================] - 1s 3ms/step - loss: 10795.6904 - root_mean_squared_error: 103.9023\n",
            "Epoch 15/35\n",
            "170/170 [==============================] - 1s 3ms/step - loss: 10680.0205 - root_mean_squared_error: 103.3442\n",
            "Epoch 16/35\n",
            "170/170 [==============================] - 1s 3ms/step - loss: 10604.1943 - root_mean_squared_error: 102.9767\n",
            "Epoch 17/35\n",
            "170/170 [==============================] - 1s 3ms/step - loss: 10555.0479 - root_mean_squared_error: 102.7378\n",
            "Epoch 18/35\n",
            "170/170 [==============================] - 1s 3ms/step - loss: 10522.1318 - root_mean_squared_error: 102.5774\n",
            "Epoch 19/35\n",
            "170/170 [==============================] - 1s 3ms/step - loss: 10497.9785 - root_mean_squared_error: 102.4596\n",
            "Epoch 20/35\n",
            "170/170 [==============================] - 1s 3ms/step - loss: 10478.8975 - root_mean_squared_error: 102.3665\n",
            "Epoch 21/35\n",
            "170/170 [==============================] - 1s 4ms/step - loss: 10463.4893 - root_mean_squared_error: 102.2912\n",
            "Epoch 22/35\n",
            "170/170 [==============================] - 1s 5ms/step - loss: 10450.7490 - root_mean_squared_error: 102.2289\n",
            "Epoch 23/35\n",
            "170/170 [==============================] - 1s 5ms/step - loss: 10439.3477 - root_mean_squared_error: 102.1731\n",
            "Epoch 24/35\n",
            "170/170 [==============================] - 1s 3ms/step - loss: 10428.4678 - root_mean_squared_error: 102.1199\n",
            "Epoch 25/35\n",
            "170/170 [==============================] - 1s 3ms/step - loss: 10418.3506 - root_mean_squared_error: 102.0703\n",
            "Epoch 26/35\n",
            "170/170 [==============================] - 1s 3ms/step - loss: 10408.4795 - root_mean_squared_error: 102.0220\n",
            "Epoch 27/35\n",
            "170/170 [==============================] - 1s 3ms/step - loss: 10400.4189 - root_mean_squared_error: 101.9824\n",
            "Epoch 28/35\n",
            "170/170 [==============================] - 1s 3ms/step - loss: 10391.9229 - root_mean_squared_error: 101.9408\n",
            "Epoch 29/35\n",
            "170/170 [==============================] - 1s 3ms/step - loss: 10384.0908 - root_mean_squared_error: 101.9024\n",
            "Epoch 30/35\n",
            "170/170 [==============================] - 1s 3ms/step - loss: 10376.4443 - root_mean_squared_error: 101.8648\n",
            "Epoch 31/35\n",
            "170/170 [==============================] - 1s 3ms/step - loss: 10368.8223 - root_mean_squared_error: 101.8274\n",
            "Epoch 32/35\n",
            "170/170 [==============================] - 1s 3ms/step - loss: 10361.8145 - root_mean_squared_error: 101.7930\n",
            "Epoch 33/35\n",
            "170/170 [==============================] - 1s 3ms/step - loss: 10354.8369 - root_mean_squared_error: 101.7587\n",
            "Epoch 34/35\n",
            "170/170 [==============================] - 1s 3ms/step - loss: 10347.7646 - root_mean_squared_error: 101.7240\n",
            "Epoch 35/35\n",
            "170/170 [==============================] - 1s 3ms/step - loss: 10340.9854 - root_mean_squared_error: 101.6906\n",
            "Model: \"model_1\"\n",
            "__________________________________________________________________________________________________\n",
            " Layer (type)                Output Shape                 Param #   Connected to                  \n",
            "==================================================================================================\n",
            " latitude (InputLayer)       [(None, 1)]                  0         []                            \n",
            "                                                                                                  \n",
            " longitude (InputLayer)      [(None, 1)]                  0         []                            \n",
            "                                                                                                  \n",
            " discretization_latitude (D  (None, 1)                    0         ['latitude[0][0]']            \n",
            " iscretization)                                                                                   \n",
            "                                                                                                  \n",
            " discretization_longitude (  (None, 1)                    0         ['longitude[0][0]']           \n",
            " Discretization)                                                                                  \n",
            "                                                                                                  \n",
            " category_encoding_latitude  (None, 10)                   0         ['discretization_latitude[0][0\n",
            "  (CategoryEncoding)                                                ]']                           \n",
            "                                                                                                  \n",
            " category_encoding_longitud  (None, 11)                   0         ['discretization_longitude[0][\n",
            " e (CategoryEncoding)                                               0]']                          \n",
            "                                                                                                  \n",
            " concatenate_1 (Concatenate  (None, 21)                   0         ['category_encoding_latitude[0\n",
            " )                                                                  ][0]',                        \n",
            "                                                                     'category_encoding_longitude[\n",
            "                                                                    0][0]']                       \n",
            "                                                                                                  \n",
            " dense_layer (Dense)         (None, 1)                    22        ['concatenate_1[0][0]']       \n",
            "                                                                                                  \n",
            "==================================================================================================\n",
            "Total params: 22 (88.00 Byte)\n",
            "Trainable params: 22 (88.00 Byte)\n",
            "Non-trainable params: 0 (0.00 Byte)\n",
            "__________________________________________________________________________________________________\n"
          ]
        },
        {
          "output_type": "display_data",
          "data": {
            "text/plain": [
              "<Figure size 640x480 with 1 Axes>"
            ],
            "image/png": "[encoded data removed]"
          },
          "metadata": {}
        },
        {
          "output_type": "stream",
          "name": "stdout",
          "text": [
            "\n",
            ": Evaluate the new model against the test set:\n",
            "30/30 [==============================] - 0s 3ms/step - loss: 10197.8877 - root_mean_squared_error: 100.9846\n"
          ]
        },
        {
          "output_type": "stream",
          "name": "stderr",
          "text": [
            "/usr/local/lib/python3.10/dist-packages/keras/src/engine/functional.py:639: UserWarning: Input dict contained keys ['housing_median_age', 'total_rooms', 'total_bedrooms', 'population', 'households', 'median_income'] which did not match any model input. They will be ignored by the model.\n",
            "  inputs = self._flatten_to_reference_inputs(inputs)\n"
          ]
        },
        {
          "output_type": "execute_result",
          "data": {
            "text/plain": [
              "[10197.8876953125, 100.98458862304688]"
            ]
          },
          "metadata": {},
          "execution_count": 9
        }
      ],
      "source": [
        "# The following variables are the hyperparameters.\n",
        "learning_rate = 0.04\n",
        "epochs = 35\n",
        "\n",
        "# Build the model.\n",
        "my_model = create_model(inputs, outputs, learning_rate)\n",
        "\n",
        "# Train the model on the training set.\n",
        "epochs, rmse = train_model(my_model, train_df, epochs, batch_size, label_name)\n",
        "\n",
        "# Print out the model summary.\n",
        "my_model.summary(expand_nested=True)\n",
        "\n",
        "plot_the_loss_curve(epochs, rmse)\n",
        "\n",
        "print(\"\\n: Evaluate the new model against the test set:\")\n",
        "my_model.evaluate(x=test_features, y=test_label, batch_size=batch_size)"
      ]
    },
    {
      "cell_type": "markdown",
      "metadata": {
        "id": "Wb-bIKsN5M48"
      },
      "source": [
        "## Task 2: Did buckets outperform floating-point representations?\n",
        "\n",
        "Compare the model's `root_mean_squared_error` values for the two representations (floating-point vs. buckets)?  Which model produced lower losses?"
      ]
    },
    {
      "cell_type": "code",
      "execution_count": 10,
      "metadata": {
        "id": "6sUlX1335UCb"
      },
      "outputs": [],
      "source": [
        "#@title Double-click for an answer to Task 2.\n",
        "\n",
        "# Bucket representation outperformed\n",
        "# floating-point representations.\n",
        "# However, you can still do far better."
      ]
    },
    {
      "cell_type": "markdown",
      "metadata": {
        "id": "ab6-bhUvxbTL"
      },
      "source": [
        "## Task 3: What is a better way to represent location?\n",
        "\n",
        "Buckets are a big improvement over floating-point values. Can you identify an even better way to identify location with `latitude` and `longitude`?"
      ]
    },
    {
      "cell_type": "code",
      "execution_count": 11,
      "metadata": {
        "id": "5no5X0OFCwf7"
      },
      "outputs": [],
      "source": [
        "#@title Double-click to view an answer to Task 3.\n",
        "\n",
        "# Representing location as a feature cross should\n",
        "# produce better results.\n",
        "\n",
        "# In Task 2, you represented latitude in\n",
        "# one-dimensional buckets and longitude in\n",
        "# another series of one-dimensional buckets.\n",
        "# Real-world locations, however, exist in\n",
        "# two dimensions. Therefore, you should\n",
        "# represent location as a two-dimensional feature\n",
        "# cross. That is, you'll cross the 10 or so latitude\n",
        "# buckets with the 10 or so longitude buckets to\n",
        "# create a grid of 100 cells.\n",
        "\n",
        "# The model will learn separate weights for each\n",
        "# of the cells."
      ]
    },
    {
      "cell_type": "markdown",
      "metadata": {
        "id": "T1ulCDiyGB6g"
      },
      "source": [
        "## Represent location as a feature cross\n",
        "\n",
        "The following code cell represents location as a feature cross. That is, the following code cell first creates buckets and then crosses the latitude and longitude features using a `HashedCrossing` layer.\n",
        "\n"
      ]
    },
    {
      "cell_type": "code",
      "execution_count": 12,
      "metadata": {
        "cellView": "both",
        "id": "HunsuEzqn21s"
      },
      "outputs": [],
      "source": [
        "resolution_in_degrees = 0.4\n",
        "\n",
        "# Create a list of numbers representing the bucket boundaries for latitude.\n",
        "latitude_boundaries = list(np.arange(int(min(train_df['latitude'])),\n",
        "                                     int(max(train_df['latitude'])),\n",
        "                                     resolution_in_degrees))\n",
        "\n",
        "# Create a Discretization layer to separate the latitude data into buckets.\n",
        "latitude = tf.keras.layers.Discretization(\n",
        "    bin_boundaries=latitude_boundaries,\n",
        "    name='discretization_latitude')(inputs.get('latitude'))\n",
        "\n",
        "# Create a list of numbers representing the bucket boundaries for longitude.\n",
        "longitude_boundaries = list(np.arange(int(min(train_df['longitude'])),\n",
        "                                      int(max(train_df['longitude'])),\n",
        "                                      resolution_in_degrees))\n",
        "\n",
        "# Create a Discretization layer to separate the longitude data into buckets.\n",
        "longitude = tf.keras.layers.Discretization(\n",
        "    bin_boundaries=longitude_boundaries,\n",
        "    name='discretization_longitude')(inputs.get('longitude'))\n",
        "\n",
        "# Cross the latitude and longitude features into a single one-hot vector.\n",
        "feature_cross = tf.keras.layers.HashedCrossing(\n",
        "    num_bins=len(latitude_boundaries) * len(longitude_boundaries),\n",
        "    output_mode='one_hot',\n",
        "    name='cross_latitude_longitude')([latitude, longitude])\n",
        "\n",
        "dense_output = layers.Dense(units=1, name='dense_layer')(feature_cross)\n",
        "\n",
        "# Define an output dictionary we'll send to the model constructor.\n",
        "outputs = {\n",
        "  'dense_output': dense_output\n",
        "}"
      ]
    },
    {
      "cell_type": "markdown",
      "metadata": {
        "id": "akRgNnnH3VXJ"
      },
      "source": [
        "Invoke the following code cell to test your solution for Task 3. Please ignore the warning messages."
      ]
    },
    {
      "cell_type": "code",
      "execution_count": 13,
      "metadata": {
        "id": "qn2PRDBEr5ni",
        "colab": {
          "base_uri": "https://localhost:8080/",
          "height": 1000
        },
        "outputId": "9ef055d8-d4cd-41f7-d785-93b31585be6d"
      },
      "outputs": [
        {
          "output_type": "stream",
          "name": "stdout",
          "text": [
            "Epoch 1/35\n",
            "170/170 [==============================] - 1s 3ms/step - loss: 53674.2695 - root_mean_squared_error: 231.6771\n",
            "Epoch 2/35\n",
            "170/170 [==============================] - 1s 3ms/step - loss: 48926.1836 - root_mean_squared_error: 221.1926\n",
            "Epoch 3/35\n",
            "170/170 [==============================] - 1s 3ms/step - loss: 44478.1992 - root_mean_squared_error: 210.8986\n",
            "Epoch 4/35\n",
            "170/170 [==============================] - 1s 3ms/step - loss: 40325.6445 - root_mean_squared_error: 200.8125\n",
            "Epoch 5/35\n",
            "170/170 [==============================] - 1s 5ms/step - loss: 36465.7305 - root_mean_squared_error: 190.9600\n",
            "Epoch 6/35\n",
            "170/170 [==============================] - 1s 5ms/step - loss: 32894.4805 - root_mean_squared_error: 181.3683\n",
            "Epoch 7/35\n",
            "170/170 [==============================] - 1s 5ms/step - loss: 29630.9805 - root_mean_squared_error: 172.1365\n",
            "Epoch 8/35\n",
            "170/170 [==============================] - 1s 3ms/step - loss: 26631.3594 - root_mean_squared_error: 163.1912\n",
            "Epoch 9/35\n",
            "170/170 [==============================] - 1s 3ms/step - loss: 23929.6992 - root_mean_squared_error: 154.6923\n",
            "Epoch 10/35\n",
            "170/170 [==============================] - 1s 3ms/step - loss: 21500.8574 - root_mean_squared_error: 146.6317\n",
            "Epoch 11/35\n",
            "170/170 [==============================] - 1s 3ms/step - loss: 19342.0488 - root_mean_squared_error: 139.0757\n",
            "Epoch 12/35\n",
            "170/170 [==============================] - 1s 3ms/step - loss: 17430.8828 - root_mean_squared_error: 132.0261\n",
            "Epoch 13/35\n",
            "170/170 [==============================] - 1s 3ms/step - loss: 15769.4209 - root_mean_squared_error: 125.5764\n",
            "Epoch 14/35\n",
            "170/170 [==============================] - 1s 3ms/step - loss: 14360.8936 - root_mean_squared_error: 119.8369\n",
            "Epoch 15/35\n",
            "170/170 [==============================] - 1s 3ms/step - loss: 13145.5117 - root_mean_squared_error: 114.6539\n",
            "Epoch 16/35\n",
            "170/170 [==============================] - 1s 3ms/step - loss: 12151.0254 - root_mean_squared_error: 110.2317\n",
            "Epoch 17/35\n",
            "170/170 [==============================] - 1s 3ms/step - loss: 11334.7188 - root_mean_squared_error: 106.4646\n",
            "Epoch 18/35\n",
            "170/170 [==============================] - 1s 3ms/step - loss: 10696.5283 - root_mean_squared_error: 103.4240\n",
            "Epoch 19/35\n",
            "170/170 [==============================] - 1s 3ms/step - loss: 10190.8135 - root_mean_squared_error: 100.9496\n",
            "Epoch 20/35\n",
            "170/170 [==============================] - 1s 3ms/step - loss: 9803.6074 - root_mean_squared_error: 99.0132\n",
            "Epoch 21/35\n",
            "170/170 [==============================] - 1s 3ms/step - loss: 9495.8027 - root_mean_squared_error: 97.4464\n",
            "Epoch 22/35\n",
            "170/170 [==============================] - 1s 3ms/step - loss: 9253.6260 - root_mean_squared_error: 96.1958\n",
            "Epoch 23/35\n",
            "170/170 [==============================] - 1s 3ms/step - loss: 9044.9453 - root_mean_squared_error: 95.1049\n",
            "Epoch 24/35\n",
            "170/170 [==============================] - 1s 3ms/step - loss: 8860.6768 - root_mean_squared_error: 94.1312\n",
            "Epoch 25/35\n",
            "170/170 [==============================] - 1s 3ms/step - loss: 8698.5645 - root_mean_squared_error: 93.2661\n",
            "Epoch 26/35\n",
            "170/170 [==============================] - 1s 5ms/step - loss: 8551.1914 - root_mean_squared_error: 92.4727\n",
            "Epoch 27/35\n",
            "170/170 [==============================] - 1s 5ms/step - loss: 8422.2246 - root_mean_squared_error: 91.7727\n",
            "Epoch 28/35\n",
            "170/170 [==============================] - 1s 5ms/step - loss: 8305.9873 - root_mean_squared_error: 91.1372\n",
            "Epoch 29/35\n",
            "170/170 [==============================] - 1s 3ms/step - loss: 8203.4336 - root_mean_squared_error: 90.5728\n",
            "Epoch 30/35\n",
            "170/170 [==============================] - 1s 3ms/step - loss: 8112.7588 - root_mean_squared_error: 90.0709\n",
            "Epoch 31/35\n",
            "170/170 [==============================] - 1s 3ms/step - loss: 8031.0308 - root_mean_squared_error: 89.6160\n",
            "Epoch 32/35\n",
            "170/170 [==============================] - 1s 3ms/step - loss: 7959.1060 - root_mean_squared_error: 89.2138\n",
            "Epoch 33/35\n",
            "170/170 [==============================] - 1s 3ms/step - loss: 7895.9199 - root_mean_squared_error: 88.8590\n",
            "Epoch 34/35\n",
            "170/170 [==============================] - 1s 3ms/step - loss: 7840.4570 - root_mean_squared_error: 88.5464\n",
            "Epoch 35/35\n",
            "170/170 [==============================] - 1s 3ms/step - loss: 7791.0063 - root_mean_squared_error: 88.2667\n",
            "Model: \"model_2\"\n",
            "__________________________________________________________________________________________________\n",
            " Layer (type)                Output Shape                 Param #   Connected to                  \n",
            "==================================================================================================\n",
            " latitude (InputLayer)       [(None, 1)]                  0         []                            \n",
            "                                                                                                  \n",
            " longitude (InputLayer)      [(None, 1)]                  0         []                            \n",
            "                                                                                                  \n",
            " discretization_latitude (D  (None, 1)                    0         ['latitude[0][0]']            \n",
            " iscretization)                                                                                   \n",
            "                                                                                                  \n",
            " discretization_longitude (  (None, 1)                    0         ['longitude[0][0]']           \n",
            " Discretization)                                                                                  \n",
            "                                                                                                  \n",
            " cross_latitude_longitude (  (None, 575)                  0         ['discretization_latitude[0][0\n",
            " HashedCrossing)                                                    ]',                           \n",
            "                                                                     'discretization_longitude[0][\n",
            "                                                                    0]']                          \n",
            "                                                                                                  \n",
            " dense_layer (Dense)         (None, 1)                    576       ['cross_latitude_longitude[0][\n",
            "                                                                    0]']                          \n",
            "                                                                                                  \n",
            "==================================================================================================\n",
            "Total params: 576 (2.25 KB)\n",
            "Trainable params: 576 (2.25 KB)\n",
            "Non-trainable params: 0 (0.00 Byte)\n",
            "__________________________________________________________________________________________________\n"
          ]
        },
        {
          "output_type": "display_data",
          "data": {
            "text/plain": [
              "<Figure size 640x480 with 1 Axes>"
            ],
            "image/png": "[encoded data removed]"
          },
          "metadata": {}
        },
        {
          "output_type": "stream",
          "name": "stdout",
          "text": [
            "\n",
            ": Evaluate the new model against the test set:\n",
            "30/30 [==============================] - 0s 3ms/step - loss: 7854.9966 - root_mean_squared_error: 88.6284\n"
          ]
        },
        {
          "output_type": "stream",
          "name": "stderr",
          "text": [
            "/usr/local/lib/python3.10/dist-packages/keras/src/engine/functional.py:639: UserWarning: Input dict contained keys ['housing_median_age', 'total_rooms', 'total_bedrooms', 'population', 'households', 'median_income'] which did not match any model input. They will be ignored by the model.\n",
            "  inputs = self._flatten_to_reference_inputs(inputs)\n"
          ]
        },
        {
          "output_type": "execute_result",
          "data": {
            "text/plain": [
              "[7854.99658203125, 88.62841796875]"
            ]
          },
          "metadata": {},
          "execution_count": 13
        }
      ],
      "source": [
        "# The following variables are the hyperparameters.\n",
        "learning_rate = 0.04\n",
        "epochs = 35\n",
        "\n",
        "# Build the model, this time passing in the feature_cross_feature_layer:\n",
        "my_model = create_model(inputs, outputs, learning_rate)\n",
        "\n",
        "# Train the model on the training set.\n",
        "epochs, rmse = train_model(my_model, train_df, epochs, batch_size, label_name)\n",
        "\n",
        "# Print out the model summary.\n",
        "my_model.summary(expand_nested=True)\n",
        "\n",
        "plot_the_loss_curve(epochs, rmse)\n",
        "\n",
        "print(\"\\n: Evaluate the new model against the test set:\")\n",
        "my_model.evaluate(x=test_features, y=test_label, batch_size=batch_size)"
      ]
    },
    {
      "cell_type": "markdown",
      "metadata": {
        "id": "bCT-l1GaWNQE"
      },
      "source": [
        "## Task 4: Did the feature cross outperform buckets?\n",
        "\n",
        "Compare the model's `root_mean_squared_error` values for the two representations (buckets vs. feature cross)?  Which model produced\n",
        "lower losses?"
      ]
    },
    {
      "cell_type": "code",
      "execution_count": 14,
      "metadata": {
        "id": "HUzdWDcs5rCi"
      },
      "outputs": [],
      "source": [
        "#@title Double-click for an answer to this question.\n",
        "\n",
        "# Yes, representing these features as a feature\n",
        "# cross produced much lower loss values than\n",
        "# representing these features as buckets"
      ]
    },
    {
      "cell_type": "markdown",
      "metadata": {
        "id": "J9Iw3ljfXqSQ"
      },
      "source": [
        "## Task 5: Adjust the resolution of the feature cross\n",
        "\n",
        "Return to the code cell in the \"Represent location as a feature cross\" section. Notice that `resolution_in_degrees` is set to 1.0. Therefore, each cell represents an area of 1.0 degree of latitude by 1.0 degree of longitude, which corresponds to a cell of 110 km by 90 km.  This resolution defines a rather large neighborhood.\n",
        "\n",
        "Experiment with `resolution_in_degrees` to answer the following questions:\n",
        "\n",
        "  1. What value of `resolution_in_degrees` produces the best results (lowest loss value)?\n",
        "  2. Why does loss increase when the value of `resolution_in_degrees` drops below a certain value?\n",
        "\n",
        "Finally, answer the following question:\n",
        "\n",
        "  3. What feature (that does not exist in the California Housing Dataset) would\n",
        "     be a better proxy for location than latitude X longitude."
      ]
    },
    {
      "cell_type": "code",
      "execution_count": 15,
      "metadata": {
        "id": "71WWwlhx4h0X"
      },
      "outputs": [],
      "source": [
        "#@title Double-click for possible answers to Task 5.\n",
        "\n",
        "#1. A resolution of ~0.4 degree provides the best\n",
        "#   results.\n",
        "\n",
        "#2. Below ~0.4 degree, loss increases because the\n",
        "#   dataset does not contain enough examples in\n",
        "#   each cell to accurately predict prices for\n",
        "#   those cells.\n",
        "\n",
        "#3. Postal code would be a far better feature\n",
        "#   than latitude X longitude, assuming that\n",
        "#   the dataset contained sufficient examples\n",
        "#   in each postal code."
      ]
    }
  ],
  "metadata": {
    "colab": {
      "provenance": [],
      "gpuType": "T4",
      "include_colab_link": true
    },
    "kernelspec": {
      "display_name": "Python 3",
      "name": "python3"
    },
    "accelerator": "GPU"
  },
  "nbformat": 4,
  "nbformat_minor": 0
}